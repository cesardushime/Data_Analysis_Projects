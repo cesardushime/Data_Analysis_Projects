{
 "cells": [
  {
   "cell_type": "markdown",
   "id": "65add090",
   "metadata": {},
   "source": [
    "# Demographic Vs Employement Correlation [Data Analysis Project]"
   ]
  },
  {
   "cell_type": "markdown",
   "id": "3e668553",
   "metadata": {},
   "source": [
    "### Importing the necessary modules"
   ]
  },
  {
   "cell_type": "code",
   "execution_count": 16,
   "id": "c313ba44",
   "metadata": {},
   "outputs": [
    {
     "data": {
      "text/html": [
       "<div>\n",
       "<style scoped>\n",
       "    .dataframe tbody tr th:only-of-type {\n",
       "        vertical-align: middle;\n",
       "    }\n",
       "\n",
       "    .dataframe tbody tr th {\n",
       "        vertical-align: top;\n",
       "    }\n",
       "\n",
       "    .dataframe thead th {\n",
       "        text-align: right;\n",
       "    }\n",
       "</style>\n",
       "<table border=\"1\" class=\"dataframe\">\n",
       "  <thead>\n",
       "    <tr style=\"text-align: right;\">\n",
       "      <th></th>\n",
       "      <th>age</th>\n",
       "      <th>fnlwgt</th>\n",
       "      <th>education-num</th>\n",
       "      <th>capital-gain</th>\n",
       "      <th>capital-loss</th>\n",
       "      <th>hours-per-week</th>\n",
       "    </tr>\n",
       "  </thead>\n",
       "  <tbody>\n",
       "    <tr>\n",
       "      <th>count</th>\n",
       "      <td>32561.000000</td>\n",
       "      <td>3.256100e+04</td>\n",
       "      <td>32561.000000</td>\n",
       "      <td>32561.000000</td>\n",
       "      <td>32561.000000</td>\n",
       "      <td>32561.000000</td>\n",
       "    </tr>\n",
       "    <tr>\n",
       "      <th>mean</th>\n",
       "      <td>38.581647</td>\n",
       "      <td>1.897784e+05</td>\n",
       "      <td>10.080679</td>\n",
       "      <td>1077.648844</td>\n",
       "      <td>87.303830</td>\n",
       "      <td>40.437456</td>\n",
       "    </tr>\n",
       "    <tr>\n",
       "      <th>std</th>\n",
       "      <td>13.640433</td>\n",
       "      <td>1.055500e+05</td>\n",
       "      <td>2.572720</td>\n",
       "      <td>7385.292085</td>\n",
       "      <td>402.960219</td>\n",
       "      <td>12.347429</td>\n",
       "    </tr>\n",
       "    <tr>\n",
       "      <th>min</th>\n",
       "      <td>17.000000</td>\n",
       "      <td>1.228500e+04</td>\n",
       "      <td>1.000000</td>\n",
       "      <td>0.000000</td>\n",
       "      <td>0.000000</td>\n",
       "      <td>1.000000</td>\n",
       "    </tr>\n",
       "    <tr>\n",
       "      <th>25%</th>\n",
       "      <td>28.000000</td>\n",
       "      <td>1.178270e+05</td>\n",
       "      <td>9.000000</td>\n",
       "      <td>0.000000</td>\n",
       "      <td>0.000000</td>\n",
       "      <td>40.000000</td>\n",
       "    </tr>\n",
       "    <tr>\n",
       "      <th>50%</th>\n",
       "      <td>37.000000</td>\n",
       "      <td>1.783560e+05</td>\n",
       "      <td>10.000000</td>\n",
       "      <td>0.000000</td>\n",
       "      <td>0.000000</td>\n",
       "      <td>40.000000</td>\n",
       "    </tr>\n",
       "    <tr>\n",
       "      <th>75%</th>\n",
       "      <td>48.000000</td>\n",
       "      <td>2.370510e+05</td>\n",
       "      <td>12.000000</td>\n",
       "      <td>0.000000</td>\n",
       "      <td>0.000000</td>\n",
       "      <td>45.000000</td>\n",
       "    </tr>\n",
       "    <tr>\n",
       "      <th>max</th>\n",
       "      <td>90.000000</td>\n",
       "      <td>1.484705e+06</td>\n",
       "      <td>16.000000</td>\n",
       "      <td>99999.000000</td>\n",
       "      <td>4356.000000</td>\n",
       "      <td>99.000000</td>\n",
       "    </tr>\n",
       "  </tbody>\n",
       "</table>\n",
       "</div>"
      ],
      "text/plain": [
       "                age        fnlwgt  education-num  capital-gain  capital-loss  \\\n",
       "count  32561.000000  3.256100e+04   32561.000000  32561.000000  32561.000000   \n",
       "mean      38.581647  1.897784e+05      10.080679   1077.648844     87.303830   \n",
       "std       13.640433  1.055500e+05       2.572720   7385.292085    402.960219   \n",
       "min       17.000000  1.228500e+04       1.000000      0.000000      0.000000   \n",
       "25%       28.000000  1.178270e+05       9.000000      0.000000      0.000000   \n",
       "50%       37.000000  1.783560e+05      10.000000      0.000000      0.000000   \n",
       "75%       48.000000  2.370510e+05      12.000000      0.000000      0.000000   \n",
       "max       90.000000  1.484705e+06      16.000000  99999.000000   4356.000000   \n",
       "\n",
       "       hours-per-week  \n",
       "count    32561.000000  \n",
       "mean        40.437456  \n",
       "std         12.347429  \n",
       "min          1.000000  \n",
       "25%         40.000000  \n",
       "50%         40.000000  \n",
       "75%         45.000000  \n",
       "max         99.000000  "
      ]
     },
     "execution_count": 16,
     "metadata": {},
     "output_type": "execute_result"
    }
   ],
   "source": [
    "import pandas as pd \n",
    "import numpy as np\n",
    "import matplotlib.pyplot as plt\n",
    "\n",
    "data_path = 'adult_data.csv'\n",
    "df = pd.read_csv(data_path)\n",
    "df.describe()\n"
   ]
  },
  {
   "cell_type": "markdown",
   "id": "5c60dbc0",
   "metadata": {},
   "source": [
    "### How many people of each race are represented in this dataset?"
   ]
  },
  {
   "cell_type": "code",
   "execution_count": 3,
   "id": "7ef9e124",
   "metadata": {
    "scrolled": true
   },
   "outputs": [
    {
     "name": "stdout",
     "output_type": "stream",
     "text": [
      "In \u001b[1m 30,940 \u001b[0m people, there are \u001b[1m89.9% \u001b[0m whites and \u001b[1m10.1%\u001b[0m blacks, \n",
      "which means 27,816 whites and 3,124 blacks\n"
     ]
    }
   ],
   "source": [
    "\n",
    "whites = df.race[df.race == 'White'].count()\n",
    "blacks = df.race[df.race == 'Black'].count()\n",
    "total = whites + blacks\n",
    "\n",
    "whites_percentage = whites * 100 / total\n",
    "blacks_percentage = blacks * 100 / total\n",
    "\n",
    "# ANSI escape code for bold text\n",
    "bold_start = '\\033[1m'\n",
    "bold_end = '\\033[0m'\n",
    "\n",
    "# Print the result with bold percentages and thousands separator\n",
    "print(f\"In {bold_start} {total:,} {bold_end} people, there are {bold_start}{whites_percentage:,.1f}% {bold_end} whites and {bold_start}{blacks_percentage:,.1f}%{bold_end} blacks, \\nwhich means {whites:,} whites and {blacks:,} blacks\")"
   ]
  },
  {
   "cell_type": "markdown",
   "id": "7818c339",
   "metadata": {},
   "source": [
    "### What is the average age of men?"
   ]
  },
  {
   "cell_type": "code",
   "execution_count": 4,
   "id": "6fcb36d7",
   "metadata": {},
   "outputs": [
    {
     "name": "stdout",
     "output_type": "stream",
     "text": [
      "The average age of men is  \u001b[1m  39.4 \u001b[0m years.\n"
     ]
    }
   ],
   "source": [
    "Males_average_age = df.age[df.sex == 'Male'].mean()\n",
    "print(\"The average age of men is\", f\" {bold_start} {Males_average_age: .1f} {bold_end} years.\")"
   ]
  },
  {
   "cell_type": "markdown",
   "id": "f061ffaf",
   "metadata": {},
   "source": [
    "### What is the percentage of people who have a Bachelor's degree?"
   ]
  },
  {
   "cell_type": "code",
   "execution_count": 5,
   "id": "5c5ce2ed",
   "metadata": {},
   "outputs": [
    {
     "name": "stdout",
     "output_type": "stream",
     "text": [
      "There are \u001b[1m  5,355 \u001b[0m people who have bachelors \n",
      " among a populations of \u001b[1m  32,561 \u001b[0m people\n",
      "The percentage of people who have bachelors degree is \u001b[1m  16.4 % \u001b[0m\n"
     ]
    }
   ],
   "source": [
    "total_people = df.shape[0]\n",
    "people_with_bachelors = df.education[df.education == 'Bachelors'].size\n",
    "percentage_with_bachelors = people_with_bachelors*100/total_people\n",
    "\n",
    "print(f\"There are {bold_start} {people_with_bachelors: ,} {bold_end} people who have bachelors \\n among a populations of {bold_start} {total_people: ,} {bold_end} people\")\n",
    "print(f\"The percentage of people who have bachelors degree is {bold_start} {percentage_with_bachelors: .1f} % {bold_end}\")"
   ]
  },
  {
   "cell_type": "markdown",
   "id": "c6bbc2cf",
   "metadata": {},
   "source": [
    "### What percentage of people with advanced education (Bachelors, Masters, or Doctorate) make more than 50K?"
   ]
  },
  {
   "cell_type": "code",
   "execution_count": 6,
   "id": "2ec0a12f",
   "metadata": {
    "scrolled": true
   },
   "outputs": [
    {
     "name": "stdout",
     "output_type": "stream",
     "text": [
      "In \u001b[1m  7,491 \u001b[0m people with advanced education, \n",
      " there are \u001b[1m  3,486 \u001b[0m who make more than 50K\n",
      "That means there are \u001b[1m  46.5 \u001b[0m% who make over 50K\n"
     ]
    }
   ],
   "source": [
    "people_with_advanced_education = df.education[df.education.isin(['Bachelors', 'Masters', 'Doctorate'])]\n",
    "total_people_with_advanced_education = df.education[df.education.isin(['Bachelors', 'Masters', 'Doctorate'])].shape[0]\n",
    "\n",
    "advanced_education_Over50K = people_with_advanced_education[df.salary == '>50K'].shape[0]\n",
    "percentage_make_Over50k = advanced_education_Over50K * 100/total_people_with_advanced_education\n",
    "\n",
    "print(f\"In {bold_start} {total_people_with_advanced_education: ,} {bold_end} people with advanced education, \\n there are {bold_start} {advanced_education_Over50K: ,} {bold_end} who make more than 50K\")\n",
    "print(f\"That means there are {bold_start} {percentage_make_Over50k: .1f} {bold_end}% who make over 50K\")"
   ]
  },
  {
   "cell_type": "code",
   "execution_count": 7,
   "id": "29b3add2",
   "metadata": {},
   "outputs": [
    {
     "name": "stdout",
     "output_type": "stream",
     "text": [
      "In \u001b[1m  7,841 \u001b[0m who make over 50K, \n",
      " \u001b[1m  95.5%\u001b[0m have advanced education\n"
     ]
    }
   ],
   "source": [
    "people_make_over50K = df.salary[df.salary == '>50K'].shape[0]\n",
    "percentage_over50k_to_advanced_education = total_people_with_advanced_education * 100/people_make_over50K\n",
    "\n",
    "print(f\"In {bold_start} {people_make_over50K: ,} {bold_end} who make over 50K, \\n {bold_start} {percentage_over50k_to_advanced_education: .1f}%{bold_end} have advanced education\")"
   ]
  },
  {
   "cell_type": "markdown",
   "id": "e724a2a9",
   "metadata": {},
   "source": [
    "### What percentage of people without advanced education make more than 50K?"
   ]
  },
  {
   "cell_type": "code",
   "execution_count": 8,
   "id": "6fc355ff",
   "metadata": {},
   "outputs": [
    {
     "name": "stdout",
     "output_type": "stream",
     "text": [
      "Among \u001b[1m 25,070 \u001b[0m people without advanced education, \n",
      " there are \u001b[1m 4,355 \u001b[0m who make over 50K, meaning \u001b[1m 17.4% \u001b[0m\n"
     ]
    }
   ],
   "source": [
    "people_without_advanced_education = df.education[~df.education.isin(['Bachelors', 'Masters', 'Doctorate'])]\n",
    "without_advancEd_make_over50K = people_without_advanced_education[df.salary == '>50K']\n",
    "\n",
    "number_people_without_advanced_education = df.education[~df.education.isin(['Bachelors', 'Masters', 'Doctorate'])].shape[0]\n",
    "number_without_advancEd_make_over50K = people_without_advanced_education[df.salary == '>50K'].shape[0]\n",
    "\n",
    "percent_without_advancEd_make_over50K = number_without_advancEd_make_over50K * 100/number_people_without_advanced_education\n",
    "\n",
    "print(f\"Among {bold_start}{number_people_without_advanced_education: ,} {bold_end} people without advanced education, \\n there are {bold_start}{number_without_advancEd_make_over50K: ,} {bold_end} who make over 50K, meaning {bold_start}{percent_without_advancEd_make_over50K: .1f}% {bold_end}\")\n"
   ]
  },
  {
   "cell_type": "markdown",
   "id": "223cf7e0",
   "metadata": {},
   "source": [
    "### What is the minimum number of hours a person works per week?"
   ]
  },
  {
   "cell_type": "code",
   "execution_count": 9,
   "id": "31ceb5d8",
   "metadata": {},
   "outputs": [
    {
     "data": {
      "text/html": [
       "<div>\n",
       "<style scoped>\n",
       "    .dataframe tbody tr th:only-of-type {\n",
       "        vertical-align: middle;\n",
       "    }\n",
       "\n",
       "    .dataframe tbody tr th {\n",
       "        vertical-align: top;\n",
       "    }\n",
       "\n",
       "    .dataframe thead th {\n",
       "        text-align: right;\n",
       "    }\n",
       "</style>\n",
       "<table border=\"1\" class=\"dataframe\">\n",
       "  <thead>\n",
       "    <tr style=\"text-align: right;\">\n",
       "      <th></th>\n",
       "      <th>age</th>\n",
       "      <th>workclass</th>\n",
       "      <th>fnlwgt</th>\n",
       "      <th>education</th>\n",
       "      <th>education-num</th>\n",
       "      <th>marital-status</th>\n",
       "      <th>occupation</th>\n",
       "      <th>relationship</th>\n",
       "      <th>race</th>\n",
       "      <th>sex</th>\n",
       "      <th>capital-gain</th>\n",
       "      <th>capital-loss</th>\n",
       "      <th>hours-per-week</th>\n",
       "      <th>native-country</th>\n",
       "      <th>salary</th>\n",
       "    </tr>\n",
       "  </thead>\n",
       "  <tbody>\n",
       "    <tr>\n",
       "      <th>0</th>\n",
       "      <td>39</td>\n",
       "      <td>State-gov</td>\n",
       "      <td>77516</td>\n",
       "      <td>Bachelors</td>\n",
       "      <td>13</td>\n",
       "      <td>Never-married</td>\n",
       "      <td>Adm-clerical</td>\n",
       "      <td>Not-in-family</td>\n",
       "      <td>White</td>\n",
       "      <td>Male</td>\n",
       "      <td>2174</td>\n",
       "      <td>0</td>\n",
       "      <td>40</td>\n",
       "      <td>United-States</td>\n",
       "      <td>&lt;=50K</td>\n",
       "    </tr>\n",
       "    <tr>\n",
       "      <th>1</th>\n",
       "      <td>50</td>\n",
       "      <td>Self-emp-not-inc</td>\n",
       "      <td>83311</td>\n",
       "      <td>Bachelors</td>\n",
       "      <td>13</td>\n",
       "      <td>Married-civ-spouse</td>\n",
       "      <td>Exec-managerial</td>\n",
       "      <td>Husband</td>\n",
       "      <td>White</td>\n",
       "      <td>Male</td>\n",
       "      <td>0</td>\n",
       "      <td>0</td>\n",
       "      <td>13</td>\n",
       "      <td>United-States</td>\n",
       "      <td>&lt;=50K</td>\n",
       "    </tr>\n",
       "    <tr>\n",
       "      <th>2</th>\n",
       "      <td>38</td>\n",
       "      <td>Private</td>\n",
       "      <td>215646</td>\n",
       "      <td>HS-grad</td>\n",
       "      <td>9</td>\n",
       "      <td>Divorced</td>\n",
       "      <td>Handlers-cleaners</td>\n",
       "      <td>Not-in-family</td>\n",
       "      <td>White</td>\n",
       "      <td>Male</td>\n",
       "      <td>0</td>\n",
       "      <td>0</td>\n",
       "      <td>40</td>\n",
       "      <td>United-States</td>\n",
       "      <td>&lt;=50K</td>\n",
       "    </tr>\n",
       "    <tr>\n",
       "      <th>3</th>\n",
       "      <td>53</td>\n",
       "      <td>Private</td>\n",
       "      <td>234721</td>\n",
       "      <td>11th</td>\n",
       "      <td>7</td>\n",
       "      <td>Married-civ-spouse</td>\n",
       "      <td>Handlers-cleaners</td>\n",
       "      <td>Husband</td>\n",
       "      <td>Black</td>\n",
       "      <td>Male</td>\n",
       "      <td>0</td>\n",
       "      <td>0</td>\n",
       "      <td>40</td>\n",
       "      <td>United-States</td>\n",
       "      <td>&lt;=50K</td>\n",
       "    </tr>\n",
       "    <tr>\n",
       "      <th>4</th>\n",
       "      <td>28</td>\n",
       "      <td>Private</td>\n",
       "      <td>338409</td>\n",
       "      <td>Bachelors</td>\n",
       "      <td>13</td>\n",
       "      <td>Married-civ-spouse</td>\n",
       "      <td>Prof-specialty</td>\n",
       "      <td>Wife</td>\n",
       "      <td>Black</td>\n",
       "      <td>Female</td>\n",
       "      <td>0</td>\n",
       "      <td>0</td>\n",
       "      <td>40</td>\n",
       "      <td>Cuba</td>\n",
       "      <td>&lt;=50K</td>\n",
       "    </tr>\n",
       "  </tbody>\n",
       "</table>\n",
       "</div>"
      ],
      "text/plain": [
       "   age         workclass  fnlwgt  education  education-num  \\\n",
       "0   39         State-gov   77516  Bachelors             13   \n",
       "1   50  Self-emp-not-inc   83311  Bachelors             13   \n",
       "2   38           Private  215646    HS-grad              9   \n",
       "3   53           Private  234721       11th              7   \n",
       "4   28           Private  338409  Bachelors             13   \n",
       "\n",
       "       marital-status         occupation   relationship   race     sex  \\\n",
       "0       Never-married       Adm-clerical  Not-in-family  White    Male   \n",
       "1  Married-civ-spouse    Exec-managerial        Husband  White    Male   \n",
       "2            Divorced  Handlers-cleaners  Not-in-family  White    Male   \n",
       "3  Married-civ-spouse  Handlers-cleaners        Husband  Black    Male   \n",
       "4  Married-civ-spouse     Prof-specialty           Wife  Black  Female   \n",
       "\n",
       "   capital-gain  capital-loss  hours-per-week native-country salary  \n",
       "0          2174             0              40  United-States  <=50K  \n",
       "1             0             0              13  United-States  <=50K  \n",
       "2             0             0              40  United-States  <=50K  \n",
       "3             0             0              40  United-States  <=50K  \n",
       "4             0             0              40           Cuba  <=50K  "
      ]
     },
     "execution_count": 9,
     "metadata": {},
     "output_type": "execute_result"
    }
   ],
   "source": [
    "df.head(5)"
   ]
  },
  {
   "cell_type": "code",
   "execution_count": 10,
   "id": "2c7e74d9",
   "metadata": {},
   "outputs": [
    {
     "name": "stdout",
     "output_type": "stream",
     "text": [
      "A person can work for a minimum of \u001b[1m1 \u001b[0m hour(s) per week\n"
     ]
    }
   ],
   "source": [
    "minimum_hours_perWeek = df[\"hours-per-week\"].min()\n",
    "\n",
    "print(f\"A person can work for a minimum of {bold_start}{minimum_hours_perWeek} {bold_end} hour(s) per week\")"
   ]
  },
  {
   "cell_type": "markdown",
   "id": "729593c6",
   "metadata": {},
   "source": [
    "### What percentage of the people who work the minimum number of hours per week have a salary of more than 50K?"
   ]
  },
  {
   "cell_type": "code",
   "execution_count": 11,
   "id": "99c3c4e6",
   "metadata": {},
   "outputs": [
    {
     "name": "stdout",
     "output_type": "stream",
     "text": [
      "The percentage of people who work minimum number of hours per week \n",
      " have a salary of more than 50K is \u001b[1m  10.0%\u001b[0m\n",
      "It's \u001b[1m2 \u001b[0m people who earn over 50K in \u001b[1m 20 \u001b[0m people who work minimum hours per week\n"
     ]
    }
   ],
   "source": [
    "MinHoursPerWeek = df[\"hours-per-week\"].min()\n",
    "people_min_hours_per_week = df[df[\"hours-per-week\"] == MinHoursPerWeek]\n",
    "min_hours_with_over50K = people_min_hours_per_week[people_min_hours_per_week.salary == '>50K']\n",
    "\n",
    "Npeople_min_hours_per_week = people_min_hours_per_week.shape[0]\n",
    "Npeople_min_hours_over50K = min_hours_with_over50K.shape[0]\n",
    "\n",
    "percent_minHours_make_over50K = Npeople_min_hours_over50K * 100/ Npeople_min_hours_per_week\n",
    "\n",
    "print(f\"The percentage of people who work minimum number of hours per week \\n have a salary of more than 50K is {bold_start} {percent_minHours_make_over50K: .1f}%{bold_end}\")\n",
    "print(f\"It's {bold_start}{Npeople_min_hours_over50K} {bold_end} people who earn over 50K in {bold_start} {Npeople_min_hours_per_week} {bold_end} people who work minimum hours per week\")"
   ]
  },
  {
   "cell_type": "markdown",
   "id": "466374a4",
   "metadata": {},
   "source": [
    "### What country has the highest percentage of people that earn >50K and what is that percentage?"
   ]
  },
  {
   "cell_type": "code",
   "execution_count": 12,
   "id": "c9466c18",
   "metadata": {},
   "outputs": [
    {
     "name": "stdout",
     "output_type": "stream",
     "text": [
      " The country with highest percentage is \u001b[1mIran\u001b[0m, with \u001b[1m 41.9 %\u001b[0m of people making over 50K.\n"
     ]
    }
   ],
   "source": [
    "earn_over_50K = df[df['salary'] == '>50K']\n",
    "\n",
    "earn_over_50K_byCountry = earn_over_50K['native-country'].value_counts()\n",
    "total_people_by_country = df['native-country'].value_counts()\n",
    "\n",
    "percent_over_50K_by_country = (earn_over_50K_byCountry/total_people_by_country)*100\n",
    "highest_percentage = percent_over_50K_by_country.max()\n",
    "country_with_highest_percentage = percent_over_50K_by_country.idxmax()\n",
    "\n",
    "print(f\" The country with highest percentage is {bold_start}{country_with_highest_percentage}{bold_end}, with {bold_start}{highest_percentage: .1f} %{bold_end} of people making over 50K.\")"
   ]
  },
  {
   "cell_type": "markdown",
   "id": "eb5b75fa",
   "metadata": {},
   "source": [
    "### Identifying the most popular occupation for those who earn >50K in India."
   ]
  },
  {
   "cell_type": "code",
   "execution_count": 13,
   "id": "405b2b01",
   "metadata": {},
   "outputs": [
    {
     "name": "stdout",
     "output_type": "stream",
     "text": [
      "The most popular occupation in India that make over 50K is \u001b[1mProf-specialty\u001b[0m\n"
     ]
    }
   ],
   "source": [
    "people_from_India = df[df['native-country'] == 'India']\n",
    "indian_with_over_50K = people_from_India[people_from_India['salary'] == '>50K']\n",
    "indian_with_over_50K_occupation = indian_with_over_50K['occupation'].value_counts()\n",
    "\n",
    "IndianMostPopularOccupation_earn_over_50K = indian_with_over_50K_occupation.idxmax()\n",
    "\n",
    "print(f\"The most popular occupation in India that make over 50K is {bold_start}{IndianMostPopularOccupation_earn_over_50K}{bold_end}\")\n"
   ]
  }
 ],
 "metadata": {
  "kernelspec": {
   "display_name": "Python 3 (ipykernel)",
   "language": "python",
   "name": "python3"
  },
  "language_info": {
   "codemirror_mode": {
    "name": "ipython",
    "version": 3
   },
   "file_extension": ".py",
   "mimetype": "text/x-python",
   "name": "python",
   "nbconvert_exporter": "python",
   "pygments_lexer": "ipython3",
   "version": "3.11.5"
  }
 },
 "nbformat": 4,
 "nbformat_minor": 5
}
