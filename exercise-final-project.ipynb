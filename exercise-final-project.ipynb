{
 "cells": [
  {
   "cell_type": "markdown",
   "id": "431abe84",
   "metadata": {
    "papermill": {
     "duration": 0.005861,
     "end_time": "2024-07-16T14:34:45.275148",
     "exception": false,
     "start_time": "2024-07-16T14:34:45.269287",
     "status": "completed"
    },
    "tags": []
   },
   "source": [
    "**This notebook is an exercise in the [Data Visualization](https://www.kaggle.com/learn/data-visualization) course.  You can reference the tutorial at [this link](https://www.kaggle.com/alexisbcook/final-project).**\n",
    "\n",
    "---\n"
   ]
  },
  {
   "cell_type": "markdown",
   "id": "c5b931b8",
   "metadata": {
    "papermill": {
     "duration": 0.005071,
     "end_time": "2024-07-16T14:34:45.285992",
     "exception": false,
     "start_time": "2024-07-16T14:34:45.280921",
     "status": "completed"
    },
    "tags": []
   },
   "source": [
    "Now it's time for you to demonstrate your new skills with a project of your own!\n",
    "\n",
    "In this exercise, you will work with a dataset of your choosing.  Once you've selected a dataset, you'll design and create your own plot to tell interesting stories behind the data!\n",
    "\n",
    "## Setup\n",
    "\n",
    "Run the next cell to import and configure the Python libraries that you need to complete the exercise."
   ]
  },
  {
   "cell_type": "code",
   "execution_count": 1,
   "id": "79a4c33e",
   "metadata": {
    "execution": {
     "iopub.execute_input": "2024-07-16T14:34:45.298326Z",
     "iopub.status.busy": "2024-07-16T14:34:45.297885Z",
     "iopub.status.idle": "2024-07-16T14:34:47.329336Z",
     "shell.execute_reply": "2024-07-16T14:34:47.328111Z"
    },
    "papermill": {
     "duration": 2.040611,
     "end_time": "2024-07-16T14:34:47.331847",
     "exception": false,
     "start_time": "2024-07-16T14:34:45.291236",
     "status": "completed"
    },
    "tags": []
   },
   "outputs": [
    {
     "name": "stdout",
     "output_type": "stream",
     "text": [
      "Setup Complete\n"
     ]
    }
   ],
   "source": [
    "import pandas as pd\n",
    "pd.plotting.register_matplotlib_converters()\n",
    "import matplotlib.pyplot as plt\n",
    "%matplotlib inline\n",
    "import seaborn as sns\n",
    "print(\"Setup Complete\")"
   ]
  },
  {
   "cell_type": "markdown",
   "id": "9dd13fd1",
   "metadata": {
    "papermill": {
     "duration": 0.005377,
     "end_time": "2024-07-16T14:34:47.342960",
     "exception": false,
     "start_time": "2024-07-16T14:34:47.337583",
     "status": "completed"
    },
    "tags": []
   },
   "source": [
    "The questions below will give you feedback on your work. Run the following cell to set up the feedback system."
   ]
  },
  {
   "cell_type": "code",
   "execution_count": 2,
   "id": "f0388da8",
   "metadata": {
    "execution": {
     "iopub.execute_input": "2024-07-16T14:34:47.358525Z",
     "iopub.status.busy": "2024-07-16T14:34:47.357283Z",
     "iopub.status.idle": "2024-07-16T14:34:47.396854Z",
     "shell.execute_reply": "2024-07-16T14:34:47.395309Z"
    },
    "papermill": {
     "duration": 0.049623,
     "end_time": "2024-07-16T14:34:47.399543",
     "exception": false,
     "start_time": "2024-07-16T14:34:47.349920",
     "status": "completed"
    },
    "tags": []
   },
   "outputs": [
    {
     "name": "stdout",
     "output_type": "stream",
     "text": [
      "Setup Complete\n"
     ]
    }
   ],
   "source": [
    "# Set up code checking\n",
    "from learntools.core import binder\n",
    "binder.bind(globals())\n",
    "from learntools.data_viz_to_coder.ex7 import *\n",
    "print(\"Setup Complete\")"
   ]
  },
  {
   "cell_type": "markdown",
   "id": "a0181fdf",
   "metadata": {
    "papermill": {
     "duration": 0.005427,
     "end_time": "2024-07-16T14:34:47.411090",
     "exception": false,
     "start_time": "2024-07-16T14:34:47.405663",
     "status": "completed"
    },
    "tags": []
   },
   "source": [
    "## Step 1: Attach a dataset to the notebook\n",
    "\n",
    "Begin by selecting a CSV dataset from [Kaggle Datasets](https://www.kaggle.com/datasets).  If you're unsure how to do this, please revisit the instructions in the previous tutorial.\n",
    "\n",
    "Once you have selected a dataset, click on the **[+ Add data]** option in the top right corner.  This will generate a pop-up window that you can use to search for your chosen dataset.  \n",
    "\n",
    "![ex6_search_dataset](https://storage.googleapis.com/kaggle-media/learn/images/cIIWPUS.png)\n",
    "\n",
    "Once you have found the dataset, click on the **[Add]** button to attach it to the notebook.  You can check that it was successful by looking at the **Data** dropdown menu to the right of the notebook -- look for an **input** folder containing a subfolder that matches the name of the dataset.\n",
    "\n",
    "<center>\n",
    "<img src=\"https://storage.googleapis.com/kaggle-media/learn/images/nMYc1Nu.png\" width=30%><br/>\n",
    "</center>\n",
    "\n",
    "You can click on the carat to the left of the name of the dataset to double-check that it contains a CSV file.  For instance, the image below shows that the example dataset contains two CSV files: (1) **dc-wikia-data.csv**, and (2) **marvel-wikia-data.csv**.\n",
    "\n",
    "<center>\n",
    "<img src=\"https://storage.googleapis.com/kaggle-media/learn/images/B4sJkVA.png\" width=30%><br/>\n",
    "</center>\n",
    "\n",
    "Once you've uploaded a dataset with a CSV file, run the code cell below **without changes** to receive credit for your work!"
   ]
  },
  {
   "cell_type": "code",
   "execution_count": 3,
   "id": "abcae4d1",
   "metadata": {
    "execution": {
     "iopub.execute_input": "2024-07-16T14:34:47.425202Z",
     "iopub.status.busy": "2024-07-16T14:34:47.424210Z",
     "iopub.status.idle": "2024-07-16T14:34:47.440957Z",
     "shell.execute_reply": "2024-07-16T14:34:47.439598Z"
    },
    "papermill": {
     "duration": 0.026696,
     "end_time": "2024-07-16T14:34:47.443641",
     "exception": false,
     "start_time": "2024-07-16T14:34:47.416945",
     "status": "completed"
    },
    "tags": []
   },
   "outputs": [
    {
     "data": {
      "application/javascript": [
       "parent.postMessage({\"jupyterEvent\": \"custom.exercise_interaction\", \"data\": {\"outcomeType\": 1, \"valueTowardsCompletion\": 0.25, \"interactionType\": 1, \"questionType\": 2, \"questionId\": \"1_AttachData\", \"learnToolsVersion\": \"0.3.4\", \"failureMessage\": \"\", \"exceptionClass\": \"\", \"trace\": \"\"}}, \"*\")"
      ],
      "text/plain": [
       "<IPython.core.display.Javascript object>"
      ]
     },
     "metadata": {},
     "output_type": "display_data"
    },
    {
     "data": {
      "text/markdown": [
       "<span style=\"color:#33cc33\">Correct:</span> \n",
       "\n"
      ],
      "text/plain": [
       "Correct: \n"
      ]
     },
     "metadata": {},
     "output_type": "display_data"
    }
   ],
   "source": [
    "# Check for a dataset with a CSV file\n",
    "step_1.check()"
   ]
  },
  {
   "cell_type": "markdown",
   "id": "0a1575d2",
   "metadata": {
    "papermill": {
     "duration": 0.005937,
     "end_time": "2024-07-16T14:34:47.455804",
     "exception": false,
     "start_time": "2024-07-16T14:34:47.449867",
     "status": "completed"
    },
    "tags": []
   },
   "source": [
    "## Step 2: Specify the filepath\n",
    "\n",
    "Now that the dataset is attached to the notebook, you can find its filepath.  To do this, begin by clicking on the CSV file you'd like to use.  This will open the CSV file in a tab below the notebook.  You can find the filepath towards the top of this new tab.  \n",
    "\n",
    "![ex6_filepath](https://storage.googleapis.com/kaggle-media/learn/images/fgXQV47.png)\n",
    "\n",
    "After you find the filepath corresponding to your dataset, fill it in as the value for `my_filepath` in the code cell below, and run the code cell to check that you've provided a valid filepath.  For instance, in the case of this example dataset, we would set\n",
    "```\n",
    "my_filepath = \"../input/fivethirtyeight-comic-characters-dataset/dc-wikia-data.csv\"\n",
    "```  \n",
    "Note that **you must enclose the filepath in quotation marks**; otherwise, the code will return an error.\n",
    "\n",
    "Once you've entered the filepath, you can close the tab below the notebook by clicking on the **[X]** at the top of the tab."
   ]
  },
  {
   "cell_type": "code",
   "execution_count": 4,
   "id": "bc06b45a",
   "metadata": {
    "execution": {
     "iopub.execute_input": "2024-07-16T14:34:47.469758Z",
     "iopub.status.busy": "2024-07-16T14:34:47.469355Z",
     "iopub.status.idle": "2024-07-16T14:34:47.478949Z",
     "shell.execute_reply": "2024-07-16T14:34:47.477908Z"
    },
    "papermill": {
     "duration": 0.019549,
     "end_time": "2024-07-16T14:34:47.481414",
     "exception": false,
     "start_time": "2024-07-16T14:34:47.461865",
     "status": "completed"
    },
    "tags": []
   },
   "outputs": [
    {
     "data": {
      "application/javascript": [
       "parent.postMessage({\"jupyterEvent\": \"custom.exercise_interaction\", \"data\": {\"outcomeType\": 1, \"valueTowardsCompletion\": 0.25, \"interactionType\": 1, \"questionType\": 2, \"questionId\": \"2_Filepath\", \"learnToolsVersion\": \"0.3.4\", \"failureMessage\": \"\", \"exceptionClass\": \"\", \"trace\": \"\"}}, \"*\")"
      ],
      "text/plain": [
       "<IPython.core.display.Javascript object>"
      ]
     },
     "metadata": {},
     "output_type": "display_data"
    },
    {
     "data": {
      "text/markdown": [
       "<span style=\"color:#33cc33\">Correct:</span> \n",
       "\n"
      ],
      "text/plain": [
       "Correct: \n"
      ]
     },
     "metadata": {},
     "output_type": "display_data"
    }
   ],
   "source": [
    "# Fill in the line below: Specify the path of the CSV file to read\n",
    "my_filepath = '/kaggle/input/online-sales-data/Online Sales Data.csv'\n",
    "\n",
    "# Check for a valid filepath to a CSV file in a dataset\n",
    "step_2.check()"
   ]
  },
  {
   "cell_type": "markdown",
   "id": "999aaf57",
   "metadata": {
    "papermill": {
     "duration": 0.006095,
     "end_time": "2024-07-16T14:34:47.493975",
     "exception": false,
     "start_time": "2024-07-16T14:34:47.487880",
     "status": "completed"
    },
    "tags": []
   },
   "source": [
    "## Step 3: Load the data\n",
    "\n",
    "Use the next code cell to load your data file into `my_data`.  Use the filepath that you specified in the previous step."
   ]
  },
  {
   "cell_type": "code",
   "execution_count": 5,
   "id": "306fff20",
   "metadata": {
    "execution": {
     "iopub.execute_input": "2024-07-16T14:34:47.508617Z",
     "iopub.status.busy": "2024-07-16T14:34:47.508197Z",
     "iopub.status.idle": "2024-07-16T14:34:47.546342Z",
     "shell.execute_reply": "2024-07-16T14:34:47.545186Z"
    },
    "papermill": {
     "duration": 0.049732,
     "end_time": "2024-07-16T14:34:47.550231",
     "exception": false,
     "start_time": "2024-07-16T14:34:47.500499",
     "status": "completed"
    },
    "tags": []
   },
   "outputs": [
    {
     "name": "stderr",
     "output_type": "stream",
     "text": [
      "/tmp/ipykernel_18/2696236656.py:2: UserWarning: Could not infer format, so each element will be parsed individually, falling back to `dateutil`. To ensure parsing is consistent and as-expected, please specify a format.\n",
      "  my_data = pd.read_csv(my_filepath, index_col='Transaction ID', parse_dates=True)\n"
     ]
    },
    {
     "data": {
      "application/javascript": [
       "parent.postMessage({\"jupyterEvent\": \"custom.exercise_interaction\", \"data\": {\"outcomeType\": 1, \"valueTowardsCompletion\": 0.25, \"interactionType\": 1, \"questionType\": 2, \"questionId\": \"3_LoadData\", \"learnToolsVersion\": \"0.3.4\", \"failureMessage\": \"\", \"exceptionClass\": \"\", \"trace\": \"\"}}, \"*\")"
      ],
      "text/plain": [
       "<IPython.core.display.Javascript object>"
      ]
     },
     "metadata": {},
     "output_type": "display_data"
    },
    {
     "data": {
      "text/markdown": [
       "<span style=\"color:#33cc33\">Correct:</span> \n",
       "\n"
      ],
      "text/plain": [
       "Correct: \n"
      ]
     },
     "metadata": {},
     "output_type": "display_data"
    }
   ],
   "source": [
    "# Fill in the line below: Read the file into a variable my_data\n",
    "my_data = pd.read_csv(my_filepath, index_col='Transaction ID', parse_dates=True)\n",
    "\n",
    "# Check that a dataset has been uploaded into my_data\n",
    "step_3.check()"
   ]
  },
  {
   "cell_type": "markdown",
   "id": "3a15fc20",
   "metadata": {
    "papermill": {
     "duration": 0.006601,
     "end_time": "2024-07-16T14:34:47.564053",
     "exception": false,
     "start_time": "2024-07-16T14:34:47.557452",
     "status": "completed"
    },
    "tags": []
   },
   "source": [
    "**_After the code cell above is marked correct_**, run the code cell below without changes to view the first five rows of the data."
   ]
  },
  {
   "cell_type": "code",
   "execution_count": 6,
   "id": "72aa9e30",
   "metadata": {
    "execution": {
     "iopub.execute_input": "2024-07-16T14:34:47.579942Z",
     "iopub.status.busy": "2024-07-16T14:34:47.579550Z",
     "iopub.status.idle": "2024-07-16T14:34:47.600448Z",
     "shell.execute_reply": "2024-07-16T14:34:47.599306Z"
    },
    "papermill": {
     "duration": 0.031935,
     "end_time": "2024-07-16T14:34:47.602923",
     "exception": false,
     "start_time": "2024-07-16T14:34:47.570988",
     "status": "completed"
    },
    "tags": []
   },
   "outputs": [
    {
     "data": {
      "text/html": [
       "<div>\n",
       "<style scoped>\n",
       "    .dataframe tbody tr th:only-of-type {\n",
       "        vertical-align: middle;\n",
       "    }\n",
       "\n",
       "    .dataframe tbody tr th {\n",
       "        vertical-align: top;\n",
       "    }\n",
       "\n",
       "    .dataframe thead th {\n",
       "        text-align: right;\n",
       "    }\n",
       "</style>\n",
       "<table border=\"1\" class=\"dataframe\">\n",
       "  <thead>\n",
       "    <tr style=\"text-align: right;\">\n",
       "      <th></th>\n",
       "      <th>Date</th>\n",
       "      <th>Product Category</th>\n",
       "      <th>Product Name</th>\n",
       "      <th>Units Sold</th>\n",
       "      <th>Unit Price</th>\n",
       "      <th>Total Revenue</th>\n",
       "      <th>Region</th>\n",
       "      <th>Payment Method</th>\n",
       "    </tr>\n",
       "    <tr>\n",
       "      <th>Transaction ID</th>\n",
       "      <th></th>\n",
       "      <th></th>\n",
       "      <th></th>\n",
       "      <th></th>\n",
       "      <th></th>\n",
       "      <th></th>\n",
       "      <th></th>\n",
       "      <th></th>\n",
       "    </tr>\n",
       "  </thead>\n",
       "  <tbody>\n",
       "    <tr>\n",
       "      <th>10001</th>\n",
       "      <td>2024-01-01</td>\n",
       "      <td>Electronics</td>\n",
       "      <td>iPhone 14 Pro</td>\n",
       "      <td>2</td>\n",
       "      <td>999.99</td>\n",
       "      <td>1999.98</td>\n",
       "      <td>North America</td>\n",
       "      <td>Credit Card</td>\n",
       "    </tr>\n",
       "    <tr>\n",
       "      <th>10002</th>\n",
       "      <td>2024-01-02</td>\n",
       "      <td>Home Appliances</td>\n",
       "      <td>Dyson V11 Vacuum</td>\n",
       "      <td>1</td>\n",
       "      <td>499.99</td>\n",
       "      <td>499.99</td>\n",
       "      <td>Europe</td>\n",
       "      <td>PayPal</td>\n",
       "    </tr>\n",
       "    <tr>\n",
       "      <th>10003</th>\n",
       "      <td>2024-01-03</td>\n",
       "      <td>Clothing</td>\n",
       "      <td>Levi's 501 Jeans</td>\n",
       "      <td>3</td>\n",
       "      <td>69.99</td>\n",
       "      <td>209.97</td>\n",
       "      <td>Asia</td>\n",
       "      <td>Debit Card</td>\n",
       "    </tr>\n",
       "    <tr>\n",
       "      <th>10004</th>\n",
       "      <td>2024-01-04</td>\n",
       "      <td>Books</td>\n",
       "      <td>The Da Vinci Code</td>\n",
       "      <td>4</td>\n",
       "      <td>15.99</td>\n",
       "      <td>63.96</td>\n",
       "      <td>North America</td>\n",
       "      <td>Credit Card</td>\n",
       "    </tr>\n",
       "    <tr>\n",
       "      <th>10005</th>\n",
       "      <td>2024-01-05</td>\n",
       "      <td>Beauty Products</td>\n",
       "      <td>Neutrogena Skincare Set</td>\n",
       "      <td>1</td>\n",
       "      <td>89.99</td>\n",
       "      <td>89.99</td>\n",
       "      <td>Europe</td>\n",
       "      <td>PayPal</td>\n",
       "    </tr>\n",
       "  </tbody>\n",
       "</table>\n",
       "</div>"
      ],
      "text/plain": [
       "                      Date Product Category             Product Name  \\\n",
       "Transaction ID                                                         \n",
       "10001           2024-01-01      Electronics            iPhone 14 Pro   \n",
       "10002           2024-01-02  Home Appliances         Dyson V11 Vacuum   \n",
       "10003           2024-01-03         Clothing         Levi's 501 Jeans   \n",
       "10004           2024-01-04            Books        The Da Vinci Code   \n",
       "10005           2024-01-05  Beauty Products  Neutrogena Skincare Set   \n",
       "\n",
       "                Units Sold  Unit Price  Total Revenue         Region  \\\n",
       "Transaction ID                                                         \n",
       "10001                    2      999.99        1999.98  North America   \n",
       "10002                    1      499.99         499.99         Europe   \n",
       "10003                    3       69.99         209.97           Asia   \n",
       "10004                    4       15.99          63.96  North America   \n",
       "10005                    1       89.99          89.99         Europe   \n",
       "\n",
       "               Payment Method  \n",
       "Transaction ID                 \n",
       "10001             Credit Card  \n",
       "10002                  PayPal  \n",
       "10003              Debit Card  \n",
       "10004             Credit Card  \n",
       "10005                  PayPal  "
      ]
     },
     "execution_count": 6,
     "metadata": {},
     "output_type": "execute_result"
    }
   ],
   "source": [
    "# Print the first five rows of the data\n",
    "my_data.head()"
   ]
  },
  {
   "cell_type": "markdown",
   "id": "18bc5051",
   "metadata": {
    "papermill": {
     "duration": 0.006889,
     "end_time": "2024-07-16T14:34:47.617092",
     "exception": false,
     "start_time": "2024-07-16T14:34:47.610203",
     "status": "completed"
    },
    "tags": []
   },
   "source": [
    "## Step 4: Visualize the data\n",
    "\n",
    "Use the next code cell to create a figure that tells a story behind your dataset.  You can use any chart type (_line chart, bar chart, heatmap, etc_) of your choosing!"
   ]
  },
  {
   "cell_type": "code",
   "execution_count": 7,
   "id": "4d0b2bc5",
   "metadata": {
    "execution": {
     "iopub.execute_input": "2024-07-16T14:34:47.633818Z",
     "iopub.status.busy": "2024-07-16T14:34:47.632784Z",
     "iopub.status.idle": "2024-07-16T14:34:48.214432Z",
     "shell.execute_reply": "2024-07-16T14:34:48.213339Z"
    },
    "papermill": {
     "duration": 0.59296,
     "end_time": "2024-07-16T14:34:48.217108",
     "exception": false,
     "start_time": "2024-07-16T14:34:47.624148",
     "status": "completed"
    },
    "tags": []
   },
   "outputs": [
    {
     "data": {
      "application/javascript": [
       "parent.postMessage({\"jupyterEvent\": \"custom.exercise_interaction\", \"data\": {\"outcomeType\": 1, \"valueTowardsCompletion\": 0.25, \"interactionType\": 1, \"questionType\": 2, \"questionId\": \"4_CreatePlot\", \"learnToolsVersion\": \"0.3.4\", \"failureMessage\": \"\", \"exceptionClass\": \"\", \"trace\": \"\"}}, \"*\")"
      ],
      "text/plain": [
       "<IPython.core.display.Javascript object>"
      ]
     },
     "metadata": {},
     "output_type": "display_data"
    },
    {
     "data": {
      "text/markdown": [
       "<span style=\"color:#33cc33\">Correct:</span> \n",
       "\n"
      ],
      "text/plain": [
       "Correct: \n"
      ]
     },
     "metadata": {},
     "output_type": "display_data"
    },
    {
     "data": {
      "image/png": "[encoded data removed]",
      "text/plain": [
       "<Figure size 640x480 with 1 Axes>"
      ]
     },
     "metadata": {},
     "output_type": "display_data"
    }
   ],
   "source": [
    "# Create a plot\n",
    "plt.xlabel = my_data['Product Category']\n",
    "sns.barplot(x = my_data['Total Revenue'], y = my_data['Product Category']) # Your code here\n",
    "\n",
    "# Check that a figure appears below\n",
    "step_4.check()"
   ]
  },
  {
   "cell_type": "markdown",
   "id": "59fb6c70",
   "metadata": {
    "papermill": {
     "duration": 0.007566,
     "end_time": "2024-07-16T14:34:48.232461",
     "exception": false,
     "start_time": "2024-07-16T14:34:48.224895",
     "status": "completed"
    },
    "tags": []
   },
   "source": [
    "## Keep going\n",
    "\n",
    "Learn how to use your skills after completing the micro-course to create data visualizations in a **[final tutorial](https://www.kaggle.com/alexisbcook/creating-your-own-notebooks)**."
   ]
  },
  {
   "cell_type": "markdown",
   "id": "c97f83c7",
   "metadata": {
    "papermill": {
     "duration": 0.00745,
     "end_time": "2024-07-16T14:34:48.247818",
     "exception": false,
     "start_time": "2024-07-16T14:34:48.240368",
     "status": "completed"
    },
    "tags": []
   },
   "source": [
    "---\n",
    "\n",
    "\n",
    "\n",
    "\n",
    "*Have questions or comments? Visit the [course discussion forum](https://www.kaggle.com/learn/data-visualization/discussion) to chat with other learners.*"
   ]
  }
 ],
 "metadata": {
  "kaggle": {
   "accelerator": "none",
   "dataSources": [
    {
     "datasetId": 5398782,
     "sourceId": 8968192,
     "sourceType": "datasetVersion"
    }
   ],
   "isGpuEnabled": false,
   "isInternetEnabled": false,
   "language": "python",
   "sourceType": "notebook"
  },
  "kernelspec": {
   "display_name": "Python 3",
   "language": "python",
   "name": "python3"
  },
  "language_info": {
   "codemirror_mode": {
    "name": "ipython",
    "version": 3
   },
   "file_extension": ".py",
   "mimetype": "text/x-python",
   "name": "python",
   "nbconvert_exporter": "python",
   "pygments_lexer": "ipython3",
   "version": "3.10.13"
  },
  "papermill": {
   "default_parameters": {},
   "duration": 6.874285,
   "end_time": "2024-07-16T14:34:48.876754",
   "environment_variables": {},
   "exception": null,
   "input_path": "__notebook__.ipynb",
   "output_path": "__notebook__.ipynb",
   "parameters": {},
   "start_time": "2024-07-16T14:34:42.002469",
   "version": "2.5.0"
  }
 },
 "nbformat": 4,
 "nbformat_minor": 5
}
