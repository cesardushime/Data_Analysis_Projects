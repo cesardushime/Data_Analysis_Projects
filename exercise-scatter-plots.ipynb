{
 "cells": [
  {
   "cell_type": "markdown",
   "id": "630fbefb",
   "metadata": {
    "papermill": {
     "duration": 0.008347,
     "end_time": "2024-07-16T14:49:26.309629",
     "exception": false,
     "start_time": "2024-07-16T14:49:26.301282",
     "status": "completed"
    },
    "tags": []
   },
   "source": [
    "**This notebook is an exercise in the [Data Visualization](https://www.kaggle.com/learn/data-visualization) course.  You can reference the tutorial at [this link](https://www.kaggle.com/alexisbcook/scatter-plots).**\n",
    "\n",
    "---\n"
   ]
  },
  {
   "cell_type": "markdown",
   "id": "512af57d",
   "metadata": {
    "papermill": {
     "duration": 0.007571,
     "end_time": "2024-07-16T14:49:26.325725",
     "exception": false,
     "start_time": "2024-07-16T14:49:26.318154",
     "status": "completed"
    },
    "tags": []
   },
   "source": [
    "In this exercise, you will use your new knowledge to propose a solution to a real-world scenario.  To succeed, you will need to import data into Python, answer questions using the data, and generate **scatter plots** to understand patterns in the data.\n",
    "\n",
    "## Scenario\n",
    "\n",
    "You work for a major candy producer, and your goal is to write a report that your company can use to guide the design of its next product.  Soon after starting your research, you stumble across this [very interesting dataset](https://fivethirtyeight.com/features/the-ultimate-halloween-candy-power-ranking/) containing results from a fun survey to crowdsource favorite candies.\n",
    "\n",
    "## Setup\n",
    "\n",
    "Run the next cell to import and configure the Python libraries that you need to complete the exercise."
   ]
  },
  {
   "cell_type": "code",
   "execution_count": 1,
   "id": "586817fd",
   "metadata": {
    "execution": {
     "iopub.execute_input": "2024-07-16T14:49:26.343569Z",
     "iopub.status.busy": "2024-07-16T14:49:26.343146Z",
     "iopub.status.idle": "2024-07-16T14:49:28.567213Z",
     "shell.execute_reply": "2024-07-16T14:49:28.565973Z"
    },
    "papermill": {
     "duration": 2.236088,
     "end_time": "2024-07-16T14:49:28.569821",
     "exception": false,
     "start_time": "2024-07-16T14:49:26.333733",
     "status": "completed"
    },
    "tags": []
   },
   "outputs": [
    {
     "name": "stdout",
     "output_type": "stream",
     "text": [
      "Setup Complete\n"
     ]
    }
   ],
   "source": [
    "import pandas as pd\n",
    "pd.plotting.register_matplotlib_converters()\n",
    "import matplotlib.pyplot as plt\n",
    "%matplotlib inline\n",
    "import seaborn as sns\n",
    "print(\"Setup Complete\")"
   ]
  },
  {
   "cell_type": "markdown",
   "id": "fe7e8738",
   "metadata": {
    "papermill": {
     "duration": 0.008041,
     "end_time": "2024-07-16T14:49:28.586175",
     "exception": false,
     "start_time": "2024-07-16T14:49:28.578134",
     "status": "completed"
    },
    "tags": []
   },
   "source": [
    "The questions below will give you feedback on your work. Run the following cell to set up our feedback system."
   ]
  },
  {
   "cell_type": "code",
   "execution_count": 2,
   "id": "8a7b81d6",
   "metadata": {
    "execution": {
     "iopub.execute_input": "2024-07-16T14:49:28.603899Z",
     "iopub.status.busy": "2024-07-16T14:49:28.603408Z",
     "iopub.status.idle": "2024-07-16T14:49:28.676967Z",
     "shell.execute_reply": "2024-07-16T14:49:28.675683Z"
    },
    "papermill": {
     "duration": 0.085145,
     "end_time": "2024-07-16T14:49:28.679445",
     "exception": false,
     "start_time": "2024-07-16T14:49:28.594300",
     "status": "completed"
    },
    "tags": []
   },
   "outputs": [
    {
     "name": "stdout",
     "output_type": "stream",
     "text": [
      "Setup Complete\n"
     ]
    }
   ],
   "source": [
    "# Set up code checking\n",
    "import os\n",
    "if not os.path.exists(\"../input/candy.csv\"):\n",
    "    os.symlink(\"../input/data-for-datavis/candy.csv\", \"../input/candy.csv\") \n",
    "from learntools.core import binder\n",
    "binder.bind(globals())\n",
    "from learntools.data_viz_to_coder.ex4 import *\n",
    "print(\"Setup Complete\")"
   ]
  },
  {
   "cell_type": "markdown",
   "id": "ea2e6510",
   "metadata": {
    "papermill": {
     "duration": 0.00792,
     "end_time": "2024-07-16T14:49:28.695719",
     "exception": false,
     "start_time": "2024-07-16T14:49:28.687799",
     "status": "completed"
    },
    "tags": []
   },
   "source": [
    "## Step 1: Load the Data\n",
    "\n",
    "Read the candy data file into `candy_data`.  Use the `\"id\"` column to label the rows."
   ]
  },
  {
   "cell_type": "code",
   "execution_count": 3,
   "id": "fd529476",
   "metadata": {
    "execution": {
     "iopub.execute_input": "2024-07-16T14:49:28.714835Z",
     "iopub.status.busy": "2024-07-16T14:49:28.713795Z",
     "iopub.status.idle": "2024-07-16T14:49:28.727569Z",
     "shell.execute_reply": "2024-07-16T14:49:28.726518Z"
    },
    "papermill": {
     "duration": 0.025939,
     "end_time": "2024-07-16T14:49:28.729905",
     "exception": false,
     "start_time": "2024-07-16T14:49:28.703966",
     "status": "completed"
    },
    "tags": []
   },
   "outputs": [
    {
     "data": {
      "application/javascript": [
       "parent.postMessage({\"jupyterEvent\": \"custom.exercise_interaction\", \"data\": {\"outcomeType\": 1, \"valueTowardsCompletion\": 0.3333333333333333, \"interactionType\": 1, \"questionType\": 1, \"questionId\": \"1_LoadData\", \"learnToolsVersion\": \"0.3.4\", \"failureMessage\": \"\", \"exceptionClass\": \"\", \"trace\": \"\"}}, \"*\")"
      ],
      "text/plain": [
       "<IPython.core.display.Javascript object>"
      ]
     },
     "metadata": {},
     "output_type": "display_data"
    },
    {
     "data": {
      "text/markdown": [
       "<span style=\"color:#33cc33\">Correct</span>"
      ],
      "text/plain": [
       "Correct"
      ]
     },
     "metadata": {},
     "output_type": "display_data"
    }
   ],
   "source": [
    "# Path of the file to read\n",
    "candy_filepath = \"../input/candy.csv\"\n",
    "\n",
    "# Fill in the line below to read the file into a variable candy_data\n",
    "candy_data = pd.read_csv(candy_filepath, index_col='id')\n",
    "\n",
    "# Run the line below with no changes to check that you've loaded the data correctly\n",
    "step_1.check()"
   ]
  },
  {
   "cell_type": "code",
   "execution_count": 4,
   "id": "b7e8f33f",
   "metadata": {
    "execution": {
     "iopub.execute_input": "2024-07-16T14:49:28.749247Z",
     "iopub.status.busy": "2024-07-16T14:49:28.748875Z",
     "iopub.status.idle": "2024-07-16T14:49:28.753542Z",
     "shell.execute_reply": "2024-07-16T14:49:28.752313Z"
    },
    "papermill": {
     "duration": 0.01676,
     "end_time": "2024-07-16T14:49:28.755745",
     "exception": false,
     "start_time": "2024-07-16T14:49:28.738985",
     "status": "completed"
    },
    "tags": []
   },
   "outputs": [],
   "source": [
    "# Lines below will give you a hint or solution code\n",
    "#step_1.hint()\n",
    "#step_1.solution()"
   ]
  },
  {
   "cell_type": "markdown",
   "id": "df07d811",
   "metadata": {
    "papermill": {
     "duration": 0.008156,
     "end_time": "2024-07-16T14:49:28.772494",
     "exception": false,
     "start_time": "2024-07-16T14:49:28.764338",
     "status": "completed"
    },
    "tags": []
   },
   "source": [
    "## Step 2: Review the data\n",
    "\n",
    "Use a Python command to print the first five rows of the data."
   ]
  },
  {
   "cell_type": "code",
   "execution_count": 5,
   "id": "ad5ce6b8",
   "metadata": {
    "execution": {
     "iopub.execute_input": "2024-07-16T14:49:28.791877Z",
     "iopub.status.busy": "2024-07-16T14:49:28.790940Z",
     "iopub.status.idle": "2024-07-16T14:49:28.813163Z",
     "shell.execute_reply": "2024-07-16T14:49:28.811940Z"
    },
    "papermill": {
     "duration": 0.034678,
     "end_time": "2024-07-16T14:49:28.815721",
     "exception": false,
     "start_time": "2024-07-16T14:49:28.781043",
     "status": "completed"
    },
    "tags": []
   },
   "outputs": [
    {
     "data": {
      "text/html": [
       "<div>\n",
       "<style scoped>\n",
       "    .dataframe tbody tr th:only-of-type {\n",
       "        vertical-align: middle;\n",
       "    }\n",
       "\n",
       "    .dataframe tbody tr th {\n",
       "        vertical-align: top;\n",
       "    }\n",
       "\n",
       "    .dataframe thead th {\n",
       "        text-align: right;\n",
       "    }\n",
       "</style>\n",
       "<table border=\"1\" class=\"dataframe\">\n",
       "  <thead>\n",
       "    <tr style=\"text-align: right;\">\n",
       "      <th></th>\n",
       "      <th>competitorname</th>\n",
       "      <th>chocolate</th>\n",
       "      <th>fruity</th>\n",
       "      <th>caramel</th>\n",
       "      <th>peanutyalmondy</th>\n",
       "      <th>nougat</th>\n",
       "      <th>crispedricewafer</th>\n",
       "      <th>hard</th>\n",
       "      <th>bar</th>\n",
       "      <th>pluribus</th>\n",
       "      <th>sugarpercent</th>\n",
       "      <th>pricepercent</th>\n",
       "      <th>winpercent</th>\n",
       "    </tr>\n",
       "    <tr>\n",
       "      <th>id</th>\n",
       "      <th></th>\n",
       "      <th></th>\n",
       "      <th></th>\n",
       "      <th></th>\n",
       "      <th></th>\n",
       "      <th></th>\n",
       "      <th></th>\n",
       "      <th></th>\n",
       "      <th></th>\n",
       "      <th></th>\n",
       "      <th></th>\n",
       "      <th></th>\n",
       "      <th></th>\n",
       "    </tr>\n",
       "  </thead>\n",
       "  <tbody>\n",
       "    <tr>\n",
       "      <th>0</th>\n",
       "      <td>100 Grand</td>\n",
       "      <td>Yes</td>\n",
       "      <td>No</td>\n",
       "      <td>Yes</td>\n",
       "      <td>No</td>\n",
       "      <td>No</td>\n",
       "      <td>Yes</td>\n",
       "      <td>No</td>\n",
       "      <td>Yes</td>\n",
       "      <td>No</td>\n",
       "      <td>0.732</td>\n",
       "      <td>0.860</td>\n",
       "      <td>66.971725</td>\n",
       "    </tr>\n",
       "    <tr>\n",
       "      <th>1</th>\n",
       "      <td>3 Musketeers</td>\n",
       "      <td>Yes</td>\n",
       "      <td>No</td>\n",
       "      <td>No</td>\n",
       "      <td>No</td>\n",
       "      <td>Yes</td>\n",
       "      <td>No</td>\n",
       "      <td>No</td>\n",
       "      <td>Yes</td>\n",
       "      <td>No</td>\n",
       "      <td>0.604</td>\n",
       "      <td>0.511</td>\n",
       "      <td>67.602936</td>\n",
       "    </tr>\n",
       "    <tr>\n",
       "      <th>2</th>\n",
       "      <td>Air Heads</td>\n",
       "      <td>No</td>\n",
       "      <td>Yes</td>\n",
       "      <td>No</td>\n",
       "      <td>No</td>\n",
       "      <td>No</td>\n",
       "      <td>No</td>\n",
       "      <td>No</td>\n",
       "      <td>No</td>\n",
       "      <td>No</td>\n",
       "      <td>0.906</td>\n",
       "      <td>0.511</td>\n",
       "      <td>52.341465</td>\n",
       "    </tr>\n",
       "    <tr>\n",
       "      <th>3</th>\n",
       "      <td>Almond Joy</td>\n",
       "      <td>Yes</td>\n",
       "      <td>No</td>\n",
       "      <td>No</td>\n",
       "      <td>Yes</td>\n",
       "      <td>No</td>\n",
       "      <td>No</td>\n",
       "      <td>No</td>\n",
       "      <td>Yes</td>\n",
       "      <td>No</td>\n",
       "      <td>0.465</td>\n",
       "      <td>0.767</td>\n",
       "      <td>50.347546</td>\n",
       "    </tr>\n",
       "    <tr>\n",
       "      <th>4</th>\n",
       "      <td>Baby Ruth</td>\n",
       "      <td>Yes</td>\n",
       "      <td>No</td>\n",
       "      <td>Yes</td>\n",
       "      <td>Yes</td>\n",
       "      <td>Yes</td>\n",
       "      <td>No</td>\n",
       "      <td>No</td>\n",
       "      <td>Yes</td>\n",
       "      <td>No</td>\n",
       "      <td>0.604</td>\n",
       "      <td>0.767</td>\n",
       "      <td>56.914547</td>\n",
       "    </tr>\n",
       "  </tbody>\n",
       "</table>\n",
       "</div>"
      ],
      "text/plain": [
       "   competitorname chocolate fruity caramel peanutyalmondy nougat  \\\n",
       "id                                                                 \n",
       "0       100 Grand       Yes     No     Yes             No     No   \n",
       "1    3 Musketeers       Yes     No      No             No    Yes   \n",
       "2       Air Heads        No    Yes      No             No     No   \n",
       "3      Almond Joy       Yes     No      No            Yes     No   \n",
       "4       Baby Ruth       Yes     No     Yes            Yes    Yes   \n",
       "\n",
       "   crispedricewafer hard  bar pluribus  sugarpercent  pricepercent  winpercent  \n",
       "id                                                                              \n",
       "0               Yes   No  Yes       No         0.732         0.860   66.971725  \n",
       "1                No   No  Yes       No         0.604         0.511   67.602936  \n",
       "2                No   No   No       No         0.906         0.511   52.341465  \n",
       "3                No   No  Yes       No         0.465         0.767   50.347546  \n",
       "4                No   No  Yes       No         0.604         0.767   56.914547  "
      ]
     },
     "execution_count": 5,
     "metadata": {},
     "output_type": "execute_result"
    }
   ],
   "source": [
    "# Print the first five rows of the data\n",
    "candy_data.head() # Your code here"
   ]
  },
  {
   "cell_type": "markdown",
   "id": "7ee15ad3",
   "metadata": {
    "papermill": {
     "duration": 0.008479,
     "end_time": "2024-07-16T14:49:28.833227",
     "exception": false,
     "start_time": "2024-07-16T14:49:28.824748",
     "status": "completed"
    },
    "tags": []
   },
   "source": [
    "The dataset contains 83 rows, where each corresponds to a different candy bar.  There are 13 columns:\n",
    "- `'competitorname'` contains the name of the candy bar. \n",
    "- the next **9** columns (from `'chocolate'` to `'pluribus'`) describe the candy.  For instance, rows with chocolate candies have `\"Yes\"` in the `'chocolate'` column (and candies without chocolate have `\"No\"` in the same column).\n",
    "- `'sugarpercent'` provides some indication of the amount of sugar, where higher values signify higher sugar content.\n",
    "- `'pricepercent'` shows the price per unit, relative to the other candies in the dataset.\n",
    "- `'winpercent'` is calculated from the survey results; higher values indicate that the candy was more popular with survey respondents.\n",
    "\n",
    "Use the first five rows of the data to answer the questions below."
   ]
  },
  {
   "cell_type": "code",
   "execution_count": 6,
   "id": "c9fcf094",
   "metadata": {
    "execution": {
     "iopub.execute_input": "2024-07-16T14:49:28.852986Z",
     "iopub.status.busy": "2024-07-16T14:49:28.852211Z",
     "iopub.status.idle": "2024-07-16T14:49:28.861518Z",
     "shell.execute_reply": "2024-07-16T14:49:28.860492Z"
    },
    "papermill": {
     "duration": 0.021514,
     "end_time": "2024-07-16T14:49:28.863608",
     "exception": false,
     "start_time": "2024-07-16T14:49:28.842094",
     "status": "completed"
    },
    "tags": []
   },
   "outputs": [
    {
     "data": {
      "application/javascript": [
       "parent.postMessage({\"jupyterEvent\": \"custom.exercise_interaction\", \"data\": {\"outcomeType\": 1, \"valueTowardsCompletion\": 0.3333333333333333, \"interactionType\": 1, \"questionType\": 1, \"questionId\": \"2_ReviewData\", \"learnToolsVersion\": \"0.3.4\", \"failureMessage\": \"\", \"exceptionClass\": \"\", \"trace\": \"\"}}, \"*\")"
      ],
      "text/plain": [
       "<IPython.core.display.Javascript object>"
      ]
     },
     "metadata": {},
     "output_type": "display_data"
    },
    {
     "data": {
      "text/markdown": [
       "<span style=\"color:#33cc33\">Correct</span>"
      ],
      "text/plain": [
       "Correct"
      ]
     },
     "metadata": {},
     "output_type": "display_data"
    }
   ],
   "source": [
    "# Fill in the line below: Which candy was more popular with survey respondents:\n",
    "# '3 Musketeers' or 'Almond Joy'?  (Please enclose your answer in single quotes.)\n",
    "more_popular = '3 Musketeers'\n",
    "\n",
    "# Fill in the line below: Which candy has higher sugar content: 'Air Heads'\n",
    "# or 'Baby Ruth'? (Please enclose your answer in single quotes.)\n",
    "more_sugar = 'Air Heads'\n",
    "\n",
    "# Check your answers\n",
    "step_2.check()"
   ]
  },
  {
   "cell_type": "code",
   "execution_count": 7,
   "id": "16b52886",
   "metadata": {
    "execution": {
     "iopub.execute_input": "2024-07-16T14:49:28.883883Z",
     "iopub.status.busy": "2024-07-16T14:49:28.882848Z",
     "iopub.status.idle": "2024-07-16T14:49:28.887739Z",
     "shell.execute_reply": "2024-07-16T14:49:28.886663Z"
    },
    "papermill": {
     "duration": 0.017191,
     "end_time": "2024-07-16T14:49:28.889842",
     "exception": false,
     "start_time": "2024-07-16T14:49:28.872651",
     "status": "completed"
    },
    "tags": []
   },
   "outputs": [],
   "source": [
    "# Lines below will give you a hint or solution code\n",
    "#step_2.hint()\n",
    "#step_2.solution()"
   ]
  },
  {
   "cell_type": "markdown",
   "id": "1fe524c3",
   "metadata": {
    "papermill": {
     "duration": 0.008588,
     "end_time": "2024-07-16T14:49:28.907517",
     "exception": false,
     "start_time": "2024-07-16T14:49:28.898929",
     "status": "completed"
    },
    "tags": []
   },
   "source": [
    "## Step 3: The role of sugar\n",
    "\n",
    "Do people tend to prefer candies with higher sugar content?  \n",
    "\n",
    "#### Part A\n",
    "\n",
    "Create a scatter plot that shows the relationship between `'sugarpercent'` (on the horizontal x-axis) and `'winpercent'` (on the vertical y-axis).  _Don't add a regression line just yet -- you'll do that in the next step!_"
   ]
  },
  {
   "cell_type": "code",
   "execution_count": 8,
   "id": "4a56bc6f",
   "metadata": {
    "execution": {
     "iopub.execute_input": "2024-07-16T14:49:28.927387Z",
     "iopub.status.busy": "2024-07-16T14:49:28.926953Z",
     "iopub.status.idle": "2024-07-16T14:49:29.285537Z",
     "shell.execute_reply": "2024-07-16T14:49:29.284447Z"
    },
    "papermill": {
     "duration": 0.371674,
     "end_time": "2024-07-16T14:49:29.288194",
     "exception": false,
     "start_time": "2024-07-16T14:49:28.916520",
     "status": "completed"
    },
    "tags": []
   },
   "outputs": [
    {
     "data": {
      "application/javascript": [
       "parent.postMessage({\"jupyterEvent\": \"custom.exercise_interaction\", \"data\": {\"outcomeType\": 1, \"valueTowardsCompletion\": 0.3333333333333333, \"interactionType\": 1, \"questionType\": 2, \"questionId\": \"3.1_PlotBlueScatter\", \"learnToolsVersion\": \"0.3.4\", \"failureMessage\": \"\", \"exceptionClass\": \"\", \"trace\": \"\"}}, \"*\")"
      ],
      "text/plain": [
       "<IPython.core.display.Javascript object>"
      ]
     },
     "metadata": {},
     "output_type": "display_data"
    },
    {
     "data": {
      "text/markdown": [
       "<span style=\"color:#33cc33\">Correct</span>"
      ],
      "text/plain": [
       "Correct"
      ]
     },
     "metadata": {},
     "output_type": "display_data"
    },
    {
     "data": {
      "image/png": "[encoded data removed]",
      "text/plain": [
       "<Figure size 640x480 with 1 Axes>"
      ]
     },
     "metadata": {},
     "output_type": "display_data"
    }
   ],
   "source": [
    "# Scatter plot showing the relationship between 'sugarpercent' and 'winpercent'\n",
    "sns.scatterplot(x=candy_data.sugarpercent, y=candy_data.winpercent) # Your code here\n",
    "\n",
    "# Check your answer\n",
    "step_3.a.check()"
   ]
  },
  {
   "cell_type": "code",
   "execution_count": 9,
   "id": "9496404a",
   "metadata": {
    "execution": {
     "iopub.execute_input": "2024-07-16T14:49:29.309130Z",
     "iopub.status.busy": "2024-07-16T14:49:29.308744Z",
     "iopub.status.idle": "2024-07-16T14:49:29.313532Z",
     "shell.execute_reply": "2024-07-16T14:49:29.312389Z"
    },
    "papermill": {
     "duration": 0.01822,
     "end_time": "2024-07-16T14:49:29.316093",
     "exception": false,
     "start_time": "2024-07-16T14:49:29.297873",
     "status": "completed"
    },
    "tags": []
   },
   "outputs": [],
   "source": [
    "# Lines below will give you a hint or solution code\n",
    "#step_3.a.hint()\n",
    "#step_3.a.solution_plot()"
   ]
  },
  {
   "cell_type": "markdown",
   "id": "f2fe6ec1",
   "metadata": {
    "papermill": {
     "duration": 0.009472,
     "end_time": "2024-07-16T14:49:29.335405",
     "exception": false,
     "start_time": "2024-07-16T14:49:29.325933",
     "status": "completed"
    },
    "tags": []
   },
   "source": [
    "#### Part B\n",
    "\n",
    "Does the scatter plot show a **strong** correlation between the two variables?  If so, are candies with more sugar relatively more or less popular with the survey respondents?"
   ]
  },
  {
   "cell_type": "code",
   "execution_count": 10,
   "id": "7dd3a1ce",
   "metadata": {
    "execution": {
     "iopub.execute_input": "2024-07-16T14:49:29.356493Z",
     "iopub.status.busy": "2024-07-16T14:49:29.356088Z",
     "iopub.status.idle": "2024-07-16T14:49:29.360829Z",
     "shell.execute_reply": "2024-07-16T14:49:29.359725Z"
    },
    "papermill": {
     "duration": 0.01799,
     "end_time": "2024-07-16T14:49:29.363184",
     "exception": false,
     "start_time": "2024-07-16T14:49:29.345194",
     "status": "completed"
    },
    "tags": []
   },
   "outputs": [],
   "source": [
    "#step_3.b.hint()"
   ]
  },
  {
   "cell_type": "code",
   "execution_count": 11,
   "id": "dde10e58",
   "metadata": {
    "execution": {
     "iopub.execute_input": "2024-07-16T14:49:29.384826Z",
     "iopub.status.busy": "2024-07-16T14:49:29.383899Z",
     "iopub.status.idle": "2024-07-16T14:49:29.392625Z",
     "shell.execute_reply": "2024-07-16T14:49:29.391636Z"
    },
    "papermill": {
     "duration": 0.021778,
     "end_time": "2024-07-16T14:49:29.394890",
     "exception": false,
     "start_time": "2024-07-16T14:49:29.373112",
     "status": "completed"
    },
    "tags": []
   },
   "outputs": [
    {
     "data": {
      "application/javascript": [
       "parent.postMessage({\"jupyterEvent\": \"custom.exercise_interaction\", \"data\": {\"interactionType\": 3, \"questionType\": 4, \"questionId\": \"3.2_ThinkBlueScatter\", \"learnToolsVersion\": \"0.3.4\", \"valueTowardsCompletion\": 0.0, \"failureMessage\": \"\", \"exceptionClass\": \"\", \"trace\": \"\", \"outcomeType\": 4}}, \"*\")"
      ],
      "text/plain": [
       "<IPython.core.display.Javascript object>"
      ]
     },
     "metadata": {},
     "output_type": "display_data"
    },
    {
     "data": {
      "text/markdown": [
       "<span style=\"color:#33cc99\">Solution:</span> The scatter plot does not show a strong correlation between the two variables. Since there is no clear relationship between the two variables, this tells us that sugar content does not play a strong role in candy popularity."
      ],
      "text/plain": [
       "Solution: The scatter plot does not show a strong correlation between the two variables. Since there is no clear relationship between the two variables, this tells us that sugar content does not play a strong role in candy popularity."
      ]
     },
     "metadata": {},
     "output_type": "display_data"
    }
   ],
   "source": [
    "# Check your answer (Run this code cell to receive credit!)\n",
    "step_3.b.solution()"
   ]
  },
  {
   "cell_type": "markdown",
   "id": "e4b0e665",
   "metadata": {
    "papermill": {
     "duration": 0.009643,
     "end_time": "2024-07-16T14:49:29.414808",
     "exception": false,
     "start_time": "2024-07-16T14:49:29.405165",
     "status": "completed"
    },
    "tags": []
   },
   "source": [
    "## Step 4: Take a closer look\n",
    "\n",
    "#### Part A\n",
    "\n",
    "Create the same scatter plot you created in **Step 3**, but now with a regression line!"
   ]
  },
  {
   "cell_type": "code",
   "execution_count": 12,
   "id": "e189d40f",
   "metadata": {
    "execution": {
     "iopub.execute_input": "2024-07-16T14:49:29.436311Z",
     "iopub.status.busy": "2024-07-16T14:49:29.435914Z",
     "iopub.status.idle": "2024-07-16T14:49:29.795997Z",
     "shell.execute_reply": "2024-07-16T14:49:29.794936Z"
    },
    "papermill": {
     "duration": 0.373617,
     "end_time": "2024-07-16T14:49:29.798447",
     "exception": false,
     "start_time": "2024-07-16T14:49:29.424830",
     "status": "completed"
    },
    "tags": []
   },
   "outputs": [
    {
     "data": {
      "application/javascript": [
       "parent.postMessage({\"jupyterEvent\": \"custom.exercise_interaction\", \"data\": {\"outcomeType\": 1, \"valueTowardsCompletion\": 0.3333333333333333, \"interactionType\": 1, \"questionType\": 2, \"questionId\": \"4.1_PlotBlueReg\", \"learnToolsVersion\": \"0.3.4\", \"failureMessage\": \"\", \"exceptionClass\": \"\", \"trace\": \"\"}}, \"*\")"
      ],
      "text/plain": [
       "<IPython.core.display.Javascript object>"
      ]
     },
     "metadata": {},
     "output_type": "display_data"
    },
    {
     "data": {
      "text/markdown": [
       "<span style=\"color:#33cc33\">Correct</span>"
      ],
      "text/plain": [
       "Correct"
      ]
     },
     "metadata": {},
     "output_type": "display_data"
    },
    {
     "data": {
      "image/png": "[encoded data removed]",
      "text/plain": [
       "<Figure size 640x480 with 1 Axes>"
      ]
     },
     "metadata": {},
     "output_type": "display_data"
    }
   ],
   "source": [
    "# Scatter plot w/ regression line showing the relationship between 'sugarpercent' and 'winpercent'\n",
    "sns.regplot(x=candy_data.sugarpercent, y=candy_data.winpercent) # Your code here\n",
    "\n",
    "# Check your answer\n",
    "step_4.a.check()"
   ]
  },
  {
   "cell_type": "code",
   "execution_count": 13,
   "id": "7a64156c",
   "metadata": {
    "execution": {
     "iopub.execute_input": "2024-07-16T14:49:29.823438Z",
     "iopub.status.busy": "2024-07-16T14:49:29.822309Z",
     "iopub.status.idle": "2024-07-16T14:49:30.173905Z",
     "shell.execute_reply": "2024-07-16T14:49:30.172825Z"
    },
    "papermill": {
     "duration": 0.366756,
     "end_time": "2024-07-16T14:49:30.176290",
     "exception": false,
     "start_time": "2024-07-16T14:49:29.809534",
     "status": "completed"
    },
    "tags": []
   },
   "outputs": [
    {
     "data": {
      "application/javascript": [
       "parent.postMessage({\"jupyterEvent\": \"custom.exercise_interaction\", \"data\": {\"interactionType\": 3, \"questionType\": 2, \"questionId\": \"4.1_PlotBlueReg\", \"learnToolsVersion\": \"0.3.4\", \"valueTowardsCompletion\": 0.0, \"failureMessage\": \"\", \"exceptionClass\": \"\", \"trace\": \"\", \"outcomeType\": 4}}, \"*\")"
      ],
      "text/plain": [
       "<IPython.core.display.Javascript object>"
      ]
     },
     "metadata": {},
     "output_type": "display_data"
    },
    {
     "data": {
      "text/markdown": [
       "<span style=\"color:#33cc99\">Solution:</span> \n",
       "```python\n",
       "# Scatter plot w/ regression line showing the relationship between 'sugarpercent' and 'winpercent'\n",
       "sns.regplot(x=candy_data['sugarpercent'], y=candy_data['winpercent'])\n",
       "\n",
       "```"
      ],
      "text/plain": [
       "Solution: \n",
       "```python\n",
       "# Scatter plot w/ regression line showing the relationship between 'sugarpercent' and 'winpercent'\n",
       "sns.regplot(x=candy_data['sugarpercent'], y=candy_data['winpercent'])\n",
       "\n",
       "```"
      ]
     },
     "metadata": {},
     "output_type": "display_data"
    },
    {
     "data": {
      "image/png": "[encoded data removed]",
      "text/plain": [
       "<Figure size 640x480 with 1 Axes>"
      ]
     },
     "metadata": {},
     "output_type": "display_data"
    }
   ],
   "source": [
    "# Lines below will give you a hint or solution code\n",
    "#step_4.a.hint()\n",
    "step_4.a.solution_plot()"
   ]
  },
  {
   "cell_type": "markdown",
   "id": "55846145",
   "metadata": {
    "papermill": {
     "duration": 0.011597,
     "end_time": "2024-07-16T14:49:30.201480",
     "exception": false,
     "start_time": "2024-07-16T14:49:30.189883",
     "status": "completed"
    },
    "tags": []
   },
   "source": [
    "#### Part B\n",
    "\n",
    "According to the plot above, is there a **slight** correlation between `'winpercent'` and `'sugarpercent'`?  What does this tell you about the candy that people tend to prefer?"
   ]
  },
  {
   "cell_type": "code",
   "execution_count": 14,
   "id": "2272a08a",
   "metadata": {
    "execution": {
     "iopub.execute_input": "2024-07-16T14:49:30.227184Z",
     "iopub.status.busy": "2024-07-16T14:49:30.226794Z",
     "iopub.status.idle": "2024-07-16T14:49:30.231463Z",
     "shell.execute_reply": "2024-07-16T14:49:30.230283Z"
    },
    "papermill": {
     "duration": 0.020505,
     "end_time": "2024-07-16T14:49:30.233689",
     "exception": false,
     "start_time": "2024-07-16T14:49:30.213184",
     "status": "completed"
    },
    "tags": []
   },
   "outputs": [],
   "source": [
    "#step_4.b.hint()"
   ]
  },
  {
   "cell_type": "code",
   "execution_count": 15,
   "id": "efabc7ec",
   "metadata": {
    "execution": {
     "iopub.execute_input": "2024-07-16T14:49:30.258322Z",
     "iopub.status.busy": "2024-07-16T14:49:30.257915Z",
     "iopub.status.idle": "2024-07-16T14:49:30.266529Z",
     "shell.execute_reply": "2024-07-16T14:49:30.265458Z"
    },
    "papermill": {
     "duration": 0.023401,
     "end_time": "2024-07-16T14:49:30.268661",
     "exception": false,
     "start_time": "2024-07-16T14:49:30.245260",
     "status": "completed"
    },
    "tags": []
   },
   "outputs": [
    {
     "data": {
      "application/javascript": [
       "parent.postMessage({\"jupyterEvent\": \"custom.exercise_interaction\", \"data\": {\"interactionType\": 3, \"questionType\": 4, \"questionId\": \"4.2_ThinkBlueReg\", \"learnToolsVersion\": \"0.3.4\", \"valueTowardsCompletion\": 0.0, \"failureMessage\": \"\", \"exceptionClass\": \"\", \"trace\": \"\", \"outcomeType\": 4}}, \"*\")"
      ],
      "text/plain": [
       "<IPython.core.display.Javascript object>"
      ]
     },
     "metadata": {},
     "output_type": "display_data"
    },
    {
     "data": {
      "text/markdown": [
       "<span style=\"color:#33cc99\">Solution:</span> Since the regression line has a slightly positive slope, this tells us that there is a slightly positive correlation between `'winpercent'` and `'sugarpercent'`. Thus, people have a slight preference for candies containing relatively more sugar."
      ],
      "text/plain": [
       "Solution: Since the regression line has a slightly positive slope, this tells us that there is a slightly positive correlation between `'winpercent'` and `'sugarpercent'`. Thus, people have a slight preference for candies containing relatively more sugar."
      ]
     },
     "metadata": {},
     "output_type": "display_data"
    }
   ],
   "source": [
    "# Check your answer (Run this code cell to receive credit!)\n",
    "step_4.b.solution()"
   ]
  },
  {
   "cell_type": "markdown",
   "id": "7f32a9aa",
   "metadata": {
    "papermill": {
     "duration": 0.011518,
     "end_time": "2024-07-16T14:49:30.291909",
     "exception": false,
     "start_time": "2024-07-16T14:49:30.280391",
     "status": "completed"
    },
    "tags": []
   },
   "source": [
    "## Step 5: Chocolate!\n",
    "\n",
    "In the code cell below, create a scatter plot to show the relationship between `'pricepercent'` (on the horizontal x-axis) and `'winpercent'` (on the vertical y-axis). Use the `'chocolate'` column to color-code the points.  _Don't add any regression lines just yet -- you'll do that in the next step!_"
   ]
  },
  {
   "cell_type": "code",
   "execution_count": 16,
   "id": "abbbd5c9",
   "metadata": {
    "execution": {
     "iopub.execute_input": "2024-07-16T14:49:30.317077Z",
     "iopub.status.busy": "2024-07-16T14:49:30.316690Z",
     "iopub.status.idle": "2024-07-16T14:49:30.672841Z",
     "shell.execute_reply": "2024-07-16T14:49:30.671819Z"
    },
    "papermill": {
     "duration": 0.37144,
     "end_time": "2024-07-16T14:49:30.675087",
     "exception": false,
     "start_time": "2024-07-16T14:49:30.303647",
     "status": "completed"
    },
    "tags": []
   },
   "outputs": [
    {
     "data": {
      "application/javascript": [
       "parent.postMessage({\"jupyterEvent\": \"custom.exercise_interaction\", \"data\": {\"outcomeType\": 1, \"valueTowardsCompletion\": 0.3333333333333333, \"interactionType\": 1, \"questionType\": 2, \"questionId\": \"5_ColorScatter\", \"learnToolsVersion\": \"0.3.4\", \"failureMessage\": \"\", \"exceptionClass\": \"\", \"trace\": \"\"}}, \"*\")"
      ],
      "text/plain": [
       "<IPython.core.display.Javascript object>"
      ]
     },
     "metadata": {},
     "output_type": "display_data"
    },
    {
     "data": {
      "text/markdown": [
       "<span style=\"color:#33cc33\">Correct</span>"
      ],
      "text/plain": [
       "Correct"
      ]
     },
     "metadata": {},
     "output_type": "display_data"
    },
    {
     "data": {
      "image/png": "[encoded data removed]",
      "text/plain": [
       "<Figure size 640x480 with 1 Axes>"
      ]
     },
     "metadata": {},
     "output_type": "display_data"
    }
   ],
   "source": [
    "# Scatter plot showing the relationship between 'pricepercent', 'winpercent', and 'chocolate'\n",
    "sns.scatterplot(x=candy_data.pricepercent, y=candy_data.winpercent, hue=candy_data.chocolate) # Your code here\n",
    "\n",
    "# Check your answer\n",
    "step_5.check()"
   ]
  },
  {
   "cell_type": "code",
   "execution_count": 17,
   "id": "12ac031c",
   "metadata": {
    "execution": {
     "iopub.execute_input": "2024-07-16T14:49:30.701708Z",
     "iopub.status.busy": "2024-07-16T14:49:30.701348Z",
     "iopub.status.idle": "2024-07-16T14:49:30.706042Z",
     "shell.execute_reply": "2024-07-16T14:49:30.704869Z"
    },
    "papermill": {
     "duration": 0.020535,
     "end_time": "2024-07-16T14:49:30.708293",
     "exception": false,
     "start_time": "2024-07-16T14:49:30.687758",
     "status": "completed"
    },
    "tags": []
   },
   "outputs": [],
   "source": [
    "# Lines below will give you a hint or solution code\n",
    "#step_5.hint()\n",
    "#step_5.solution_plot()"
   ]
  },
  {
   "cell_type": "markdown",
   "id": "e693adf9",
   "metadata": {
    "papermill": {
     "duration": 0.012157,
     "end_time": "2024-07-16T14:49:30.733021",
     "exception": false,
     "start_time": "2024-07-16T14:49:30.720864",
     "status": "completed"
    },
    "tags": []
   },
   "source": [
    "Can you see any interesting patterns in the scatter plot?  We'll investigate this plot further  by adding regression lines in the next step!\n",
    "\n",
    "## Step 6: Investigate chocolate\n",
    "\n",
    "#### Part A\n",
    "\n",
    "Create the same scatter plot you created in **Step 5**, but now with two regression lines, corresponding to (1) chocolate candies and (2) candies without chocolate."
   ]
  },
  {
   "cell_type": "code",
   "execution_count": 18,
   "id": "86631e8b",
   "metadata": {
    "execution": {
     "iopub.execute_input": "2024-07-16T14:49:30.760027Z",
     "iopub.status.busy": "2024-07-16T14:49:30.759660Z",
     "iopub.status.idle": "2024-07-16T14:49:31.464735Z",
     "shell.execute_reply": "2024-07-16T14:49:31.463565Z"
    },
    "papermill": {
     "duration": 0.721933,
     "end_time": "2024-07-16T14:49:31.467555",
     "exception": false,
     "start_time": "2024-07-16T14:49:30.745622",
     "status": "completed"
    },
    "tags": []
   },
   "outputs": [
    {
     "data": {
      "application/javascript": [
       "parent.postMessage({\"jupyterEvent\": \"custom.exercise_interaction\", \"data\": {\"outcomeType\": 1, \"valueTowardsCompletion\": 0.3333333333333333, \"interactionType\": 1, \"questionType\": 2, \"questionId\": \"6.1_PlotColorReg\", \"learnToolsVersion\": \"0.3.4\", \"failureMessage\": \"\", \"exceptionClass\": \"\", \"trace\": \"\"}}, \"*\")"
      ],
      "text/plain": [
       "<IPython.core.display.Javascript object>"
      ]
     },
     "metadata": {},
     "output_type": "display_data"
    },
    {
     "data": {
      "text/markdown": [
       "<span style=\"color:#33cc33\">Correct</span>"
      ],
      "text/plain": [
       "Correct"
      ]
     },
     "metadata": {},
     "output_type": "display_data"
    },
    {
     "data": {
      "image/png": "[encoded data removed]",
      "text/plain": [
       "<Figure size 578.611x500 with 1 Axes>"
      ]
     },
     "metadata": {},
     "output_type": "display_data"
    }
   ],
   "source": [
    "# Color-coded scatter plot w/ regression lines\n",
    "sns.lmplot(x='pricepercent', y='winpercent', hue='chocolate', data=candy_data) # Your code here\n",
    "\n",
    "# Check your answer\n",
    "step_6.a.check()"
   ]
  },
  {
   "cell_type": "code",
   "execution_count": 19,
   "id": "3fd26425",
   "metadata": {
    "execution": {
     "iopub.execute_input": "2024-07-16T14:49:31.497428Z",
     "iopub.status.busy": "2024-07-16T14:49:31.497039Z",
     "iopub.status.idle": "2024-07-16T14:49:31.501794Z",
     "shell.execute_reply": "2024-07-16T14:49:31.500654Z"
    },
    "papermill": {
     "duration": 0.022648,
     "end_time": "2024-07-16T14:49:31.504030",
     "exception": false,
     "start_time": "2024-07-16T14:49:31.481382",
     "status": "completed"
    },
    "tags": []
   },
   "outputs": [],
   "source": [
    "# Lines below will give you a hint or solution code\n",
    "#step_6.a.hint()\n",
    "#step_6.a.solution_plot()"
   ]
  },
  {
   "cell_type": "markdown",
   "id": "5c532e4d",
   "metadata": {
    "papermill": {
     "duration": 0.01321,
     "end_time": "2024-07-16T14:49:31.530834",
     "exception": false,
     "start_time": "2024-07-16T14:49:31.517624",
     "status": "completed"
    },
    "tags": []
   },
   "source": [
    "#### Part B\n",
    "\n",
    "Using the regression lines, what conclusions can you draw about the effects of chocolate and price on candy popularity?"
   ]
  },
  {
   "cell_type": "code",
   "execution_count": 20,
   "id": "505c278c",
   "metadata": {
    "execution": {
     "iopub.execute_input": "2024-07-16T14:49:31.560563Z",
     "iopub.status.busy": "2024-07-16T14:49:31.560156Z",
     "iopub.status.idle": "2024-07-16T14:49:31.565123Z",
     "shell.execute_reply": "2024-07-16T14:49:31.564038Z"
    },
    "papermill": {
     "duration": 0.022645,
     "end_time": "2024-07-16T14:49:31.567430",
     "exception": false,
     "start_time": "2024-07-16T14:49:31.544785",
     "status": "completed"
    },
    "tags": []
   },
   "outputs": [],
   "source": [
    "#step_6.b.hint()"
   ]
  },
  {
   "cell_type": "code",
   "execution_count": 21,
   "id": "e609a0af",
   "metadata": {
    "execution": {
     "iopub.execute_input": "2024-07-16T14:49:31.655517Z",
     "iopub.status.busy": "2024-07-16T14:49:31.655135Z",
     "iopub.status.idle": "2024-07-16T14:49:31.663988Z",
     "shell.execute_reply": "2024-07-16T14:49:31.662967Z"
    },
    "papermill": {
     "duration": 0.026201,
     "end_time": "2024-07-16T14:49:31.666325",
     "exception": false,
     "start_time": "2024-07-16T14:49:31.640124",
     "status": "completed"
    },
    "tags": []
   },
   "outputs": [
    {
     "data": {
      "application/javascript": [
       "parent.postMessage({\"jupyterEvent\": \"custom.exercise_interaction\", \"data\": {\"interactionType\": 3, \"questionType\": 4, \"questionId\": \"6.2_ThinkColorReg\", \"learnToolsVersion\": \"0.3.4\", \"valueTowardsCompletion\": 0.0, \"failureMessage\": \"\", \"exceptionClass\": \"\", \"trace\": \"\", \"outcomeType\": 4}}, \"*\")"
      ],
      "text/plain": [
       "<IPython.core.display.Javascript object>"
      ]
     },
     "metadata": {},
     "output_type": "display_data"
    },
    {
     "data": {
      "text/markdown": [
       "<span style=\"color:#33cc99\">Solution:</span> We'll begin with the regression line for chocolate candies. Since this line has a slightly positive slope, we can say that more expensive chocolate candies tend to be more popular (than relatively cheaper chocolate candies).  Likewise, since the regression line for candies without chocolate has a negative slope, we can say that if candies don't contain chocolate, they tend to be more popular when they are cheaper.  One important note, however, is that the dataset is quite small -- so we shouldn't invest too much trust in these patterns!  To inspire more confidence in the results, we should add more candies to the dataset."
      ],
      "text/plain": [
       "Solution: We'll begin with the regression line for chocolate candies. Since this line has a slightly positive slope, we can say that more expensive chocolate candies tend to be more popular (than relatively cheaper chocolate candies).  Likewise, since the regression line for candies without chocolate has a negative slope, we can say that if candies don't contain chocolate, they tend to be more popular when they are cheaper.  One important note, however, is that the dataset is quite small -- so we shouldn't invest too much trust in these patterns!  To inspire more confidence in the results, we should add more candies to the dataset."
      ]
     },
     "metadata": {},
     "output_type": "display_data"
    }
   ],
   "source": [
    "# Check your answer (Run this code cell to receive credit!)\n",
    "step_6.b.solution()"
   ]
  },
  {
   "cell_type": "markdown",
   "id": "43494916",
   "metadata": {
    "papermill": {
     "duration": 0.01351,
     "end_time": "2024-07-16T14:49:31.693723",
     "exception": false,
     "start_time": "2024-07-16T14:49:31.680213",
     "status": "completed"
    },
    "tags": []
   },
   "source": [
    "## Step 7: Everybody loves chocolate.\n",
    "\n",
    "#### Part A\n",
    "\n",
    "Create a categorical scatter plot to highlight the relationship between `'chocolate'` and `'winpercent'`.  Put `'chocolate'` on the (horizontal) x-axis, and `'winpercent'` on the (vertical) y-axis."
   ]
  },
  {
   "cell_type": "code",
   "execution_count": 22,
   "id": "29c4be84",
   "metadata": {
    "execution": {
     "iopub.execute_input": "2024-07-16T14:49:31.722970Z",
     "iopub.status.busy": "2024-07-16T14:49:31.722604Z",
     "iopub.status.idle": "2024-07-16T14:49:32.117260Z",
     "shell.execute_reply": "2024-07-16T14:49:32.116011Z"
    },
    "papermill": {
     "duration": 0.413169,
     "end_time": "2024-07-16T14:49:32.120671",
     "exception": false,
     "start_time": "2024-07-16T14:49:31.707502",
     "status": "completed"
    },
    "tags": []
   },
   "outputs": [
    {
     "data": {
      "application/javascript": [
       "parent.postMessage({\"jupyterEvent\": \"custom.exercise_interaction\", \"data\": {\"outcomeType\": 1, \"valueTowardsCompletion\": 0.3333333333333333, \"interactionType\": 1, \"questionType\": 2, \"questionId\": \"7.1_PlotSwarm\", \"learnToolsVersion\": \"0.3.4\", \"failureMessage\": \"\", \"exceptionClass\": \"\", \"trace\": \"\"}}, \"*\")"
      ],
      "text/plain": [
       "<IPython.core.display.Javascript object>"
      ]
     },
     "metadata": {},
     "output_type": "display_data"
    },
    {
     "data": {
      "text/markdown": [
       "<span style=\"color:#33cc33\">Correct</span>"
      ],
      "text/plain": [
       "Correct"
      ]
     },
     "metadata": {},
     "output_type": "display_data"
    },
    {
     "data": {
      "image/png": "[encoded data removed]",
      "text/plain": [
       "<Figure size 640x480 with 1 Axes>"
      ]
     },
     "metadata": {},
     "output_type": "display_data"
    }
   ],
   "source": [
    "# Scatter plot showing the relationship between 'chocolate' and 'winpercent'\n",
    "sns.swarmplot(x=candy_data.chocolate, y=candy_data.winpercent) # Your code here\n",
    "\n",
    "# Check your answer\n",
    "step_7.a.check()"
   ]
  },
  {
   "cell_type": "code",
   "execution_count": 23,
   "id": "14cbe38d",
   "metadata": {
    "execution": {
     "iopub.execute_input": "2024-07-16T14:49:32.172581Z",
     "iopub.status.busy": "2024-07-16T14:49:32.171896Z",
     "iopub.status.idle": "2024-07-16T14:49:32.176173Z",
     "shell.execute_reply": "2024-07-16T14:49:32.175029Z"
    },
    "papermill": {
     "duration": 0.032704,
     "end_time": "2024-07-16T14:49:32.178494",
     "exception": false,
     "start_time": "2024-07-16T14:49:32.145790",
     "status": "completed"
    },
    "tags": []
   },
   "outputs": [],
   "source": [
    "# Lines below will give you a hint or solution code\n",
    "#step_7.a.hint()\n",
    "#step_7.a.solution_plot()"
   ]
  },
  {
   "cell_type": "markdown",
   "id": "ce880cdb",
   "metadata": {
    "papermill": {
     "duration": 0.014806,
     "end_time": "2024-07-16T14:49:32.209012",
     "exception": false,
     "start_time": "2024-07-16T14:49:32.194206",
     "status": "completed"
    },
    "tags": []
   },
   "source": [
    "#### Part B\n",
    "\n",
    "You decide to dedicate a section of your report to the fact that chocolate candies tend to be more popular than candies without chocolate.  Which plot is more appropriate to tell this story: the plot from **Step 6**, or the plot from **Step 7**?"
   ]
  },
  {
   "cell_type": "code",
   "execution_count": 24,
   "id": "9f55898a",
   "metadata": {
    "execution": {
     "iopub.execute_input": "2024-07-16T14:49:32.239958Z",
     "iopub.status.busy": "2024-07-16T14:49:32.239559Z",
     "iopub.status.idle": "2024-07-16T14:49:32.244389Z",
     "shell.execute_reply": "2024-07-16T14:49:32.243219Z"
    },
    "papermill": {
     "duration": 0.023123,
     "end_time": "2024-07-16T14:49:32.246784",
     "exception": false,
     "start_time": "2024-07-16T14:49:32.223661",
     "status": "completed"
    },
    "tags": []
   },
   "outputs": [],
   "source": [
    "#step_7.b.hint()"
   ]
  },
  {
   "cell_type": "code",
   "execution_count": 25,
   "id": "93d1ac83",
   "metadata": {
    "execution": {
     "iopub.execute_input": "2024-07-16T14:49:32.277648Z",
     "iopub.status.busy": "2024-07-16T14:49:32.277274Z",
     "iopub.status.idle": "2024-07-16T14:49:32.286424Z",
     "shell.execute_reply": "2024-07-16T14:49:32.285181Z"
    },
    "papermill": {
     "duration": 0.02719,
     "end_time": "2024-07-16T14:49:32.288658",
     "exception": false,
     "start_time": "2024-07-16T14:49:32.261468",
     "status": "completed"
    },
    "tags": []
   },
   "outputs": [
    {
     "data": {
      "application/javascript": [
       "parent.postMessage({\"jupyterEvent\": \"custom.exercise_interaction\", \"data\": {\"interactionType\": 3, \"questionType\": 4, \"questionId\": \"7.2_ThinkSwarm\", \"learnToolsVersion\": \"0.3.4\", \"valueTowardsCompletion\": 0.0, \"failureMessage\": \"\", \"exceptionClass\": \"\", \"trace\": \"\", \"outcomeType\": 4}}, \"*\")"
      ],
      "text/plain": [
       "<IPython.core.display.Javascript object>"
      ]
     },
     "metadata": {},
     "output_type": "display_data"
    },
    {
     "data": {
      "text/markdown": [
       "<span style=\"color:#33cc99\">Solution:</span> In this case, the categorical scatter plot from **Step 7** is the more appropriate plot. While both plots tell the desired story, the plot from **Step 6** conveys far more information that could distract from the main point."
      ],
      "text/plain": [
       "Solution: In this case, the categorical scatter plot from **Step 7** is the more appropriate plot. While both plots tell the desired story, the plot from **Step 6** conveys far more information that could distract from the main point."
      ]
     },
     "metadata": {},
     "output_type": "display_data"
    }
   ],
   "source": [
    "# Check your answer (Run this code cell to receive credit!)\n",
    "step_7.b.solution()"
   ]
  },
  {
   "cell_type": "markdown",
   "id": "b87535b5",
   "metadata": {
    "papermill": {
     "duration": 0.014439,
     "end_time": "2024-07-16T14:49:32.318216",
     "exception": false,
     "start_time": "2024-07-16T14:49:32.303777",
     "status": "completed"
    },
    "tags": []
   },
   "source": [
    "## Keep going\n",
    "\n",
    "Explore **[histograms and density plots](https://www.kaggle.com/alexisbcook/distributions)**."
   ]
  },
  {
   "cell_type": "markdown",
   "id": "cd96902d",
   "metadata": {
    "papermill": {
     "duration": 0.014383,
     "end_time": "2024-07-16T14:49:32.347314",
     "exception": false,
     "start_time": "2024-07-16T14:49:32.332931",
     "status": "completed"
    },
    "tags": []
   },
   "source": [
    "---\n",
    "\n",
    "\n",
    "\n",
    "\n",
    "*Have questions or comments? Visit the [course discussion forum](https://www.kaggle.com/learn/data-visualization/discussion) to chat with other learners.*"
   ]
  }
 ],
 "metadata": {
  "kaggle": {
   "accelerator": "none",
   "dataSources": [
    {
     "datasetId": 116573,
     "sourceId": 3551030,
     "sourceType": "datasetVersion"
    }
   ],
   "isGpuEnabled": false,
   "isInternetEnabled": false,
   "language": "python",
   "sourceType": "notebook"
  },
  "kernelspec": {
   "display_name": "Python 3",
   "language": "python",
   "name": "python3"
  },
  "language_info": {
   "codemirror_mode": {
    "name": "ipython",
    "version": 3
   },
   "file_extension": ".py",
   "mimetype": "text/x-python",
   "name": "python",
   "nbconvert_exporter": "python",
   "pygments_lexer": "ipython3",
   "version": "3.10.13"
  },
  "papermill": {
   "default_parameters": {},
   "duration": 9.454081,
   "end_time": "2024-07-16T14:49:32.984078",
   "environment_variables": {},
   "exception": null,
   "input_path": "__notebook__.ipynb",
   "output_path": "__notebook__.ipynb",
   "parameters": {},
   "start_time": "2024-07-16T14:49:23.529997",
   "version": "2.5.0"
  }
 },
 "nbformat": 4,
 "nbformat_minor": 5
}
